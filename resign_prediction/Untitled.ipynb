{
 "cells": [
  {
   "cell_type": "code",
   "execution_count": 22,
   "metadata": {},
   "outputs": [],
   "source": [
    "import optuna\n",
    "import numpy as np\n",
    "import pandas as pd\n",
    "import sklearn\n",
    "from sklearn import linear_model\n",
    "from sklearn import ensemble\n",
    "from sklearn import datasets\n",
    "from sklearn import model_selection\n",
    "from sklearn.ensemble import RandomForestClassifier\n",
    "from sklearn.metrics import fbeta_score, make_scorer\n",
    "import shap\n",
    "from matplotlib import pyplot as plt"
   ]
  },
  {
   "cell_type": "code",
   "execution_count": 2,
   "metadata": {},
   "outputs": [],
   "source": [
    "raw = pd.read_csv('onehot_train.csv')"
   ]
  },
  {
   "cell_type": "code",
   "execution_count": 23,
   "metadata": {},
   "outputs": [],
   "source": [
    "ftwo_scorer = make_scorer(fbeta_score, beta=1.5)\n",
    "\n",
    "#Grabbing a sklearn Classification dataset:\n",
    "train_x = raw.iloc[:,3:]\n",
    "train_y = raw.iloc[:,2]\n",
    "\n",
    "#Step 1. Define an objective function to be maximized.\n",
    "def objective(trial):\n",
    "    list_trees = [25, 50, 75, 100, 125, 150, 175, 200, 225, 250]\n",
    "    \n",
    "    n_estimators = trial.suggest_categorical('n_estimators', list_trees)\n",
    "    min_samples_split = trial.suggest_categorical(\"min_samples_split\", [2, 5, 10])\n",
    "    min_samples_leaf = trial.suggest_categorical(\"min_samples_leaf\", [1, 2, 4])\n",
    "    bootstrap = trial.suggest_categorical(\"bootstrap\", [True, False])\n",
    "\n",
    "    max_depth = int(trial.suggest_float('max_depth', 1, 64, log=True))\n",
    "    max_features = trial.suggest_uniform(\"max_features\", 0.15, 1.0)\n",
    "    max_samples = trial.suggest_uniform('max_samples', 0.6, 0.99)\n",
    "    \n",
    "    clf = sklearn.ensemble.RandomForestClassifier(\n",
    "    n_estimators=n_estimators, max_depth=max_depth, min_samples_split=min_samples_split, min_samples_leaf=min_samples_leaf,\n",
    "                max_features=max_features, bootstrap=bootstrap,  max_samples=max_samples)\n",
    "\n",
    "    sss = StratifiedShuffleSplit(n_splits=5, test_size=0.2, random_state=0)\n",
    "    sss.get_n_splits(train_x, train_y)\n",
    "\n",
    "    \n",
    "\n",
    "    for train_index, test_index in sss.split(X, y):\n",
    "        print(\"TRAIN:\", train_index, \"TEST:\", test_index)\n",
    "        X_train, X_test = X[train_index], X[test_index]\n",
    "        y_train, y_test = y[train_index], y[test_index]\n",
    "\n",
    "\n",
    "\n",
    "    \n",
    "    return sklearn.model_selection.cross_val_score(\n",
    "        clf, train_x, train_y, n_jobs=-1, cv=3, scoring='f1').mean()\n",
    "\n",
    "\n"
   ]
  },
  {
   "cell_type": "code",
   "execution_count": 21,
   "metadata": {},
   "outputs": [
    {
     "data": {
      "text/plain": [
       "0    10046\n",
       "1      619\n",
       "Name: PerStatus, dtype: int64"
      ]
     },
     "execution_count": 21,
     "metadata": {},
     "output_type": "execute_result"
    }
   ],
   "source": [
    "train_y.value_counts()"
   ]
  },
  {
   "cell_type": "code",
   "execution_count": 11,
   "metadata": {},
   "outputs": [],
   "source": [
    "colnames = train_x.columns\n",
    "train_x.columns = np.arange(len(colnames))"
   ]
  },
  {
   "cell_type": "code",
   "execution_count": 24,
   "metadata": {},
   "outputs": [
    {
     "name": "stderr",
     "output_type": "stream",
     "text": [
      "\u001b[32m[I 2020-12-13 01:39:17,547]\u001b[0m A new study created in memory with name: no-name-aef50e26-ebcd-49cf-be8e-65b61211e695\u001b[0m\n",
      "\u001b[32m[I 2020-12-13 01:39:43,348]\u001b[0m Trial 0 finished with value: 0.07138210878641782 and parameters: {'n_estimators': 200, 'min_samples_split': 10, 'min_samples_leaf': 1, 'bootstrap': True, 'max_depth': 33.42685620678158, 'max_features': 0.6721237941329169, 'max_samples': 0.7527291116667213}. Best is trial 0 with value: 0.07138210878641782.\u001b[0m\n",
      "\u001b[32m[I 2020-12-13 01:39:46,667]\u001b[0m Trial 1 finished with value: 0.0 and parameters: {'n_estimators': 175, 'min_samples_split': 2, 'min_samples_leaf': 2, 'bootstrap': True, 'max_depth': 3.0864899894704196, 'max_features': 0.3678443465258431, 'max_samples': 0.7779066313939913}. Best is trial 0 with value: 0.07138210878641782.\u001b[0m\n",
      "\u001b[32m[I 2020-12-13 01:39:49,794]\u001b[0m Trial 2 finished with value: 0.08952114455732008 and parameters: {'n_estimators': 25, 'min_samples_split': 2, 'min_samples_leaf': 1, 'bootstrap': True, 'max_depth': 24.657623649572013, 'max_features': 0.8121716482181417, 'max_samples': 0.6230323105864647}. Best is trial 2 with value: 0.08952114455732008.\u001b[0m\n",
      "\u001b[32m[I 2020-12-13 01:39:59,822]\u001b[0m Trial 3 finished with value: 0.054683607374190334 and parameters: {'n_estimators': 200, 'min_samples_split': 10, 'min_samples_leaf': 4, 'bootstrap': False, 'max_depth': 9.067323894817942, 'max_features': 0.34809664948963237, 'max_samples': 0.8882368864464719}. Best is trial 2 with value: 0.08952114455732008.\u001b[0m\n",
      "\u001b[32m[I 2020-12-13 01:40:05,899]\u001b[0m Trial 4 finished with value: 0.01895777178796047 and parameters: {'n_estimators': 225, 'min_samples_split': 5, 'min_samples_leaf': 2, 'bootstrap': True, 'max_depth': 4.643520827989668, 'max_features': 0.616121526112334, 'max_samples': 0.7788495342857845}. Best is trial 2 with value: 0.08952114455732008.\u001b[0m\n",
      "\u001b[32m[I 2020-12-13 01:40:15,879]\u001b[0m Trial 5 finished with value: 0.10649265048502564 and parameters: {'n_estimators': 50, 'min_samples_split': 10, 'min_samples_leaf': 2, 'bootstrap': False, 'max_depth': 18.359803089466787, 'max_features': 0.706974250305646, 'max_samples': 0.6492646164581214}. Best is trial 5 with value: 0.10649265048502564.\u001b[0m\n",
      "\u001b[32m[I 2020-12-13 01:40:27,913]\u001b[0m Trial 6 finished with value: 0.13307556640889973 and parameters: {'n_estimators': 75, 'min_samples_split': 2, 'min_samples_leaf': 1, 'bootstrap': False, 'max_depth': 12.05926214720676, 'max_features': 0.7210406033861225, 'max_samples': 0.9762292143108766}. Best is trial 6 with value: 0.13307556640889973.\u001b[0m\n",
      "\u001b[32m[I 2020-12-13 01:41:02,061]\u001b[0m Trial 7 finished with value: 0.07944568489135662 and parameters: {'n_estimators': 250, 'min_samples_split': 10, 'min_samples_leaf': 4, 'bootstrap': False, 'max_depth': 41.8217250364859, 'max_features': 0.49704405441092103, 'max_samples': 0.6533893666461145}. Best is trial 6 with value: 0.13307556640889973.\u001b[0m\n",
      "\u001b[32m[I 2020-12-13 01:41:05,791]\u001b[0m Trial 8 finished with value: 0.055064410204597125 and parameters: {'n_estimators': 100, 'min_samples_split': 5, 'min_samples_leaf': 4, 'bootstrap': False, 'max_depth': 7.433242998243254, 'max_features': 0.34060207701839595, 'max_samples': 0.877425803760644}. Best is trial 6 with value: 0.13307556640889973.\u001b[0m\n",
      "\u001b[32m[I 2020-12-13 01:41:10,346]\u001b[0m Trial 9 finished with value: 0.11235849897224603 and parameters: {'n_estimators': 25, 'min_samples_split': 2, 'min_samples_leaf': 4, 'bootstrap': False, 'max_depth': 26.121476536451002, 'max_features': 0.6655764813795896, 'max_samples': 0.8056084369404598}. Best is trial 6 with value: 0.13307556640889973.\u001b[0m\n",
      "\u001b[32m[I 2020-12-13 01:41:12,187]\u001b[0m Trial 10 finished with value: 0.0 and parameters: {'n_estimators': 75, 'min_samples_split': 2, 'min_samples_leaf': 1, 'bootstrap': False, 'max_depth': 1.3977728469137949, 'max_features': 0.986714498126855, 'max_samples': 0.9512773589889291}. Best is trial 6 with value: 0.13307556640889973.\u001b[0m\n",
      "\u001b[32m[I 2020-12-13 01:41:16,676]\u001b[0m Trial 11 finished with value: 0.1296595899891754 and parameters: {'n_estimators': 25, 'min_samples_split': 2, 'min_samples_leaf': 1, 'bootstrap': False, 'max_depth': 14.008133252867081, 'max_features': 0.8525413254468925, 'max_samples': 0.9687044609306682}. Best is trial 6 with value: 0.13307556640889973.\u001b[0m\n",
      "\u001b[32m[I 2020-12-13 01:41:29,425]\u001b[0m Trial 12 finished with value: 0.10643626186186779 and parameters: {'n_estimators': 75, 'min_samples_split': 2, 'min_samples_leaf': 1, 'bootstrap': False, 'max_depth': 10.773675918868857, 'max_features': 0.9337755560886166, 'max_samples': 0.9824138066977373}. Best is trial 6 with value: 0.13307556640889973.\u001b[0m\n",
      "\u001b[32m[I 2020-12-13 01:41:51,230]\u001b[0m Trial 13 finished with value: 0.13000556098199284 and parameters: {'n_estimators': 125, 'min_samples_split': 2, 'min_samples_leaf': 1, 'bootstrap': False, 'max_depth': 13.666284002821968, 'max_features': 0.8584653121450011, 'max_samples': 0.9428771603958324}. Best is trial 6 with value: 0.13307556640889973.\u001b[0m\n",
      "\u001b[32m[I 2020-12-13 01:42:27,002]\u001b[0m Trial 14 finished with value: 0.14674538358748884 and parameters: {'n_estimators': 125, 'min_samples_split': 2, 'min_samples_leaf': 1, 'bootstrap': False, 'max_depth': 56.680158780417855, 'max_features': 0.7832311671280588, 'max_samples': 0.9209361011708147}. Best is trial 14 with value: 0.14674538358748884.\u001b[0m\n",
      "\u001b[32m[I 2020-12-13 01:42:49,880]\u001b[0m Trial 15 finished with value: 0.13396358543417367 and parameters: {'n_estimators': 150, 'min_samples_split': 2, 'min_samples_leaf': 1, 'bootstrap': False, 'max_depth': 54.33065327936278, 'max_features': 0.48854761333851615, 'max_samples': 0.889766161284951}. Best is trial 14 with value: 0.14674538358748884.\u001b[0m\n",
      "\u001b[32m[I 2020-12-13 01:42:57,981]\u001b[0m Trial 16 finished with value: 0.09099164418787119 and parameters: {'n_estimators': 150, 'min_samples_split': 5, 'min_samples_leaf': 1, 'bootstrap': False, 'max_depth': 52.253577028183976, 'max_features': 0.19346489331271555, 'max_samples': 0.8821061404237911}. Best is trial 14 with value: 0.14674538358748884.\u001b[0m\n",
      "\u001b[32m[I 2020-12-13 01:43:15,359]\u001b[0m Trial 17 finished with value: 0.1365922279138388 and parameters: {'n_estimators': 125, 'min_samples_split': 2, 'min_samples_leaf': 1, 'bootstrap': False, 'max_depth': 59.5234301879814, 'max_features': 0.5173043686534038, 'max_samples': 0.8377797615806386}. Best is trial 14 with value: 0.14674538358748884.\u001b[0m\n",
      "\u001b[32m[I 2020-12-13 01:43:33,980]\u001b[0m Trial 18 finished with value: 0.13419610086276754 and parameters: {'n_estimators': 125, 'min_samples_split': 2, 'min_samples_leaf': 1, 'bootstrap': False, 'max_depth': 63.607298006840836, 'max_features': 0.5301253167787049, 'max_samples': 0.8411774110973715}. Best is trial 14 with value: 0.14674538358748884.\u001b[0m\n",
      "\u001b[32m[I 2020-12-13 01:43:35,480]\u001b[0m Trial 19 finished with value: 0.0 and parameters: {'n_estimators': 125, 'min_samples_split': 2, 'min_samples_leaf': 1, 'bootstrap': False, 'max_depth': 1.6853283995660537, 'max_features': 0.42629134895591736, 'max_samples': 0.8331373719337422}. Best is trial 14 with value: 0.14674538358748884.\u001b[0m\n",
      "\u001b[32m[I 2020-12-13 01:43:38,728]\u001b[0m Trial 20 finished with value: 0.0403044595048021 and parameters: {'n_estimators': 125, 'min_samples_split': 5, 'min_samples_leaf': 2, 'bootstrap': True, 'max_depth': 61.69474209645161, 'max_features': 0.1583325278450024, 'max_samples': 0.7148941767135881}. Best is trial 14 with value: 0.14674538358748884.\u001b[0m\n",
      "\u001b[32m[I 2020-12-13 01:43:57,771]\u001b[0m Trial 21 finished with value: 0.12517611016361432 and parameters: {'n_estimators': 125, 'min_samples_split': 2, 'min_samples_leaf': 1, 'bootstrap': False, 'max_depth': 63.67218799017063, 'max_features': 0.5418111870429267, 'max_samples': 0.8409815977128867}. Best is trial 14 with value: 0.14674538358748884.\u001b[0m\n",
      "\u001b[32m[I 2020-12-13 01:44:19,784]\u001b[0m Trial 22 finished with value: 0.13131866762998579 and parameters: {'n_estimators': 125, 'min_samples_split': 2, 'min_samples_leaf': 1, 'bootstrap': False, 'max_depth': 37.214407151353484, 'max_features': 0.5699533243386211, 'max_samples': 0.9110354716518835}. Best is trial 14 with value: 0.14674538358748884.\u001b[0m\n",
      "\u001b[32m[I 2020-12-13 01:44:54,900]\u001b[0m Trial 23 finished with value: 0.1432970178738304 and parameters: {'n_estimators': 125, 'min_samples_split': 2, 'min_samples_leaf': 1, 'bootstrap': False, 'max_depth': 24.23914697133415, 'max_features': 0.7689997165836033, 'max_samples': 0.8374981223675718}. Best is trial 14 with value: 0.14674538358748884.\u001b[0m\n"
     ]
    },
    {
     "name": "stderr",
     "output_type": "stream",
     "text": [
      "\u001b[32m[I 2020-12-13 01:45:30,619]\u001b[0m Trial 24 finished with value: 0.13726764290429236 and parameters: {'n_estimators': 125, 'min_samples_split': 2, 'min_samples_leaf': 1, 'bootstrap': False, 'max_depth': 25.505512232564474, 'max_features': 0.7882592545367189, 'max_samples': 0.9186943954660486}. Best is trial 14 with value: 0.14674538358748884.\u001b[0m\n",
      "\u001b[32m[I 2020-12-13 01:46:12,389]\u001b[0m Trial 25 finished with value: 0.14566377988537876 and parameters: {'n_estimators': 125, 'min_samples_split': 2, 'min_samples_leaf': 1, 'bootstrap': False, 'max_depth': 21.272901774086385, 'max_features': 0.7738707237561727, 'max_samples': 0.9320578584218484}. Best is trial 14 with value: 0.14674538358748884.\u001b[0m\n",
      "\u001b[32m[I 2020-12-13 01:46:40,697]\u001b[0m Trial 26 finished with value: 0.14726046329862777 and parameters: {'n_estimators': 100, 'min_samples_split': 2, 'min_samples_leaf': 1, 'bootstrap': False, 'max_depth': 19.324744512478926, 'max_features': 0.9136003219997533, 'max_samples': 0.9272026304054933}. Best is trial 26 with value: 0.14726046329862777.\u001b[0m\n",
      "\u001b[32m[I 2020-12-13 01:46:48,470]\u001b[0m Trial 27 finished with value: 0.07195027195027194 and parameters: {'n_estimators': 100, 'min_samples_split': 2, 'min_samples_leaf': 1, 'bootstrap': False, 'max_depth': 5.914205095982573, 'max_features': 0.946076194983113, 'max_samples': 0.9352050784914429}. Best is trial 26 with value: 0.14726046329862777.\u001b[0m\n",
      "\u001b[32m[I 2020-12-13 01:47:11,747]\u001b[0m Trial 28 finished with value: 0.14305462798551893 and parameters: {'n_estimators': 100, 'min_samples_split': 2, 'min_samples_leaf': 1, 'bootstrap': False, 'max_depth': 15.147966201334834, 'max_features': 0.9115035275479484, 'max_samples': 0.9132748845459243}. Best is trial 26 with value: 0.14726046329862777.\u001b[0m\n",
      "\u001b[32m[I 2020-12-13 01:47:26,685]\u001b[0m Trial 29 finished with value: 0.06583470908655344 and parameters: {'n_estimators': 100, 'min_samples_split': 10, 'min_samples_leaf': 1, 'bootstrap': True, 'max_depth': 18.529721143855, 'max_features': 0.9976787098074854, 'max_samples': 0.7192664817712784}. Best is trial 26 with value: 0.14726046329862777.\u001b[0m\n",
      "\u001b[32m[I 2020-12-13 01:48:15,270]\u001b[0m Trial 30 finished with value: 0.15064131875628634 and parameters: {'n_estimators': 175, 'min_samples_split': 2, 'min_samples_leaf': 1, 'bootstrap': False, 'max_depth': 33.376159439568646, 'max_features': 0.8916963645493382, 'max_samples': 0.9566410304922763}. Best is trial 30 with value: 0.15064131875628634.\u001b[0m\n",
      "\u001b[32m[I 2020-12-13 01:49:04,001]\u001b[0m Trial 31 finished with value: 0.1554750252176187 and parameters: {'n_estimators': 175, 'min_samples_split': 2, 'min_samples_leaf': 1, 'bootstrap': False, 'max_depth': 33.24780175588958, 'max_features': 0.8962283675436249, 'max_samples': 0.9846462428612502}. Best is trial 31 with value: 0.1554750252176187.\u001b[0m\n",
      "\u001b[32m[I 2020-12-13 01:49:49,792]\u001b[0m Trial 32 finished with value: 0.14297709793467617 and parameters: {'n_estimators': 175, 'min_samples_split': 2, 'min_samples_leaf': 1, 'bootstrap': False, 'max_depth': 33.04736987916423, 'max_features': 0.8759967088869097, 'max_samples': 0.9608539320476838}. Best is trial 31 with value: 0.1554750252176187.\u001b[0m\n",
      "\u001b[32m[I 2020-12-13 01:50:57,983]\u001b[0m Trial 33 finished with value: 0.14053351836149533 and parameters: {'n_estimators': 175, 'min_samples_split': 2, 'min_samples_leaf': 1, 'bootstrap': False, 'max_depth': 44.017183378622825, 'max_features': 0.9941195548314041, 'max_samples': 0.9889885826319631}. Best is trial 31 with value: 0.1554750252176187.\u001b[0m\n",
      "\u001b[32m[I 2020-12-13 01:51:23,926]\u001b[0m Trial 34 finished with value: 0.07686431215842982 and parameters: {'n_estimators': 175, 'min_samples_split': 2, 'min_samples_leaf': 2, 'bootstrap': True, 'max_depth': 32.70434462460935, 'max_features': 0.838157280418773, 'max_samples': 0.9876340069359384}. Best is trial 31 with value: 0.1554750252176187.\u001b[0m\n",
      "\u001b[32m[I 2020-12-13 01:52:04,724]\u001b[0m Trial 35 finished with value: 0.1480386067665612 and parameters: {'n_estimators': 175, 'min_samples_split': 2, 'min_samples_leaf': 1, 'bootstrap': False, 'max_depth': 30.520035289261674, 'max_features': 0.9244916538695427, 'max_samples': 0.8652237108106626}. Best is trial 31 with value: 0.1554750252176187.\u001b[0m\n",
      "\u001b[32m[I 2020-12-13 01:52:58,140]\u001b[0m Trial 36 finished with value: 0.14165653655095822 and parameters: {'n_estimators': 175, 'min_samples_split': 10, 'min_samples_leaf': 1, 'bootstrap': False, 'max_depth': 35.091585869300374, 'max_features': 0.8984782268257048, 'max_samples': 0.861007810237856}. Best is trial 31 with value: 0.1554750252176187.\u001b[0m\n",
      "\u001b[32m[I 2020-12-13 01:53:21,269]\u001b[0m Trial 37 finished with value: 0.06957326633245613 and parameters: {'n_estimators': 175, 'min_samples_split': 2, 'min_samples_leaf': 4, 'bootstrap': True, 'max_depth': 17.29049387269419, 'max_features': 0.9405451013353382, 'max_samples': 0.8983118814086947}. Best is trial 31 with value: 0.1554750252176187.\u001b[0m\n",
      "\u001b[32m[I 2020-12-13 01:54:21,123]\u001b[0m Trial 38 finished with value: 0.1346086605446349 and parameters: {'n_estimators': 200, 'min_samples_split': 5, 'min_samples_leaf': 1, 'bootstrap': False, 'max_depth': 30.264772102511934, 'max_features': 0.9678518577933258, 'max_samples': 0.950507183361106}. Best is trial 31 with value: 0.1554750252176187.\u001b[0m\n",
      "\u001b[32m[I 2020-12-13 01:55:06,198]\u001b[0m Trial 39 finished with value: 0.12805158771890593 and parameters: {'n_estimators': 225, 'min_samples_split': 2, 'min_samples_leaf': 2, 'bootstrap': False, 'max_depth': 41.245816240964345, 'max_features': 0.6498710753893694, 'max_samples': 0.8650437416015593}. Best is trial 31 with value: 0.1554750252176187.\u001b[0m\n",
      "\u001b[32m[I 2020-12-13 01:55:11,684]\u001b[0m Trial 40 finished with value: 0.10083172717959403 and parameters: {'n_estimators': 50, 'min_samples_split': 10, 'min_samples_leaf': 4, 'bootstrap': False, 'max_depth': 10.079571489200587, 'max_features': 0.7324146912425119, 'max_samples': 0.7977951986437861}. Best is trial 31 with value: 0.1554750252176187.\u001b[0m\n",
      "\u001b[32m[I 2020-12-13 01:55:55,998]\u001b[0m Trial 41 finished with value: 0.13913612507078932 and parameters: {'n_estimators': 175, 'min_samples_split': 2, 'min_samples_leaf': 1, 'bootstrap': False, 'max_depth': 47.756154341854085, 'max_features': 0.8158444278628109, 'max_samples': 0.9111564132123482}. Best is trial 31 with value: 0.1554750252176187.\u001b[0m\n",
      "\u001b[32m[I 2020-12-13 01:57:01,197]\u001b[0m Trial 42 finished with value: 0.15219838495810392 and parameters: {'n_estimators': 250, 'min_samples_split': 2, 'min_samples_leaf': 1, 'bootstrap': False, 'max_depth': 28.382868553596037, 'max_features': 0.9020517905580067, 'max_samples': 0.9276947698668956}. Best is trial 31 with value: 0.1554750252176187.\u001b[0m\n",
      "\u001b[32m[I 2020-12-13 01:57:55,696]\u001b[0m Trial 43 finished with value: 0.14549303191962473 and parameters: {'n_estimators': 250, 'min_samples_split': 2, 'min_samples_leaf': 1, 'bootstrap': False, 'max_depth': 20.684318270846052, 'max_features': 0.9119364523786395, 'max_samples': 0.9634344083483563}. Best is trial 31 with value: 0.1554750252176187.\u001b[0m\n",
      "\u001b[32m[I 2020-12-13 01:59:20,491]\u001b[0m Trial 44 finished with value: 0.14980241805111136 and parameters: {'n_estimators': 250, 'min_samples_split': 2, 'min_samples_leaf': 1, 'bootstrap': False, 'max_depth': 30.41383832161451, 'max_features': 0.8864913622736766, 'max_samples': 0.973706493697011}. Best is trial 31 with value: 0.1554750252176187.\u001b[0m\n",
      "\u001b[32m[I 2020-12-13 02:00:37,922]\u001b[0m Trial 45 finished with value: 0.14320858210766468 and parameters: {'n_estimators': 250, 'min_samples_split': 2, 'min_samples_leaf': 1, 'bootstrap': False, 'max_depth': 28.0623898772397, 'max_features': 0.8740162250084963, 'max_samples': 0.971211994851968}. Best is trial 31 with value: 0.1554750252176187.\u001b[0m\n",
      "\u001b[32m[I 2020-12-13 02:01:47,605]\u001b[0m Trial 46 finished with value: 0.13564537549045566 and parameters: {'n_estimators': 250, 'min_samples_split': 2, 'min_samples_leaf': 1, 'bootstrap': False, 'max_depth': 25.027931624416834, 'max_features': 0.8205881277703515, 'max_samples': 0.9867285270743114}. Best is trial 31 with value: 0.1554750252176187.\u001b[0m\n",
      "\u001b[32m[I 2020-12-13 02:01:54,159]\u001b[0m Trial 47 finished with value: 0.015708786685357006 and parameters: {'n_estimators': 250, 'min_samples_split': 2, 'min_samples_leaf': 1, 'bootstrap': False, 'max_depth': 2.825908317710092, 'max_features': 0.7258911410361643, 'max_samples': 0.9469652241512577}. Best is trial 31 with value: 0.1554750252176187.\u001b[0m\n"
     ]
    },
    {
     "name": "stderr",
     "output_type": "stream",
     "text": [
      "\u001b[32m[I 2020-12-13 02:02:51,892]\u001b[0m Trial 48 finished with value: 0.14378462088272081 and parameters: {'n_estimators': 175, 'min_samples_split': 2, 'min_samples_leaf': 4, 'bootstrap': False, 'max_depth': 30.54700711201022, 'max_features': 0.9632828648001481, 'max_samples': 0.8127289209124816}. Best is trial 31 with value: 0.1554750252176187.\u001b[0m\n",
      "\u001b[32m[I 2020-12-13 02:04:05,269]\u001b[0m Trial 49 finished with value: 0.1291256541015461 and parameters: {'n_estimators': 250, 'min_samples_split': 5, 'min_samples_leaf': 1, 'bootstrap': False, 'max_depth': 38.28761247324355, 'max_features': 0.8522400782545178, 'max_samples': 0.7575877371162435}. Best is trial 31 with value: 0.1554750252176187.\u001b[0m\n",
      "\u001b[32m[I 2020-12-13 02:04:51,691]\u001b[0m Trial 50 finished with value: 0.14059598745219304 and parameters: {'n_estimators': 175, 'min_samples_split': 2, 'min_samples_leaf': 2, 'bootstrap': False, 'max_depth': 46.978396144782856, 'max_features': 0.9990697403996545, 'max_samples': 0.8997488900522248}. Best is trial 31 with value: 0.1554750252176187.\u001b[0m\n",
      "\u001b[32m[I 2020-12-13 02:05:49,251]\u001b[0m Trial 51 finished with value: 0.1493612505689311 and parameters: {'n_estimators': 250, 'min_samples_split': 2, 'min_samples_leaf': 1, 'bootstrap': False, 'max_depth': 21.90548397511221, 'max_features': 0.8970026914116834, 'max_samples': 0.9305853806235437}. Best is trial 31 with value: 0.1554750252176187.\u001b[0m\n",
      "\u001b[32m[I 2020-12-13 02:06:45,980]\u001b[0m Trial 52 finished with value: 0.1505631866582217 and parameters: {'n_estimators': 250, 'min_samples_split': 2, 'min_samples_leaf': 1, 'bootstrap': False, 'max_depth': 24.395609200773478, 'max_features': 0.8819767771919161, 'max_samples': 0.9636026820558369}. Best is trial 31 with value: 0.1554750252176187.\u001b[0m\n",
      "\u001b[32m[I 2020-12-13 02:07:40,479]\u001b[0m Trial 53 finished with value: 0.14727399367031946 and parameters: {'n_estimators': 250, 'min_samples_split': 2, 'min_samples_leaf': 1, 'bootstrap': False, 'max_depth': 21.79103047601914, 'max_features': 0.8798705507526281, 'max_samples': 0.9724169794456737}. Best is trial 31 with value: 0.1554750252176187.\u001b[0m\n",
      "\u001b[32m[I 2020-12-13 02:08:23,199]\u001b[0m Trial 54 finished with value: 0.14146941590704792 and parameters: {'n_estimators': 250, 'min_samples_split': 2, 'min_samples_leaf': 1, 'bootstrap': False, 'max_depth': 16.695463780272924, 'max_features': 0.8286001541137828, 'max_samples': 0.9533076886788551}. Best is trial 31 with value: 0.1554750252176187.\u001b[0m\n",
      "\u001b[32m[I 2020-12-13 02:08:49,931]\u001b[0m Trial 55 finished with value: 0.12745860880476886 and parameters: {'n_estimators': 250, 'min_samples_split': 2, 'min_samples_leaf': 1, 'bootstrap': False, 'max_depth': 11.691968435646894, 'max_features': 0.7512853203677666, 'max_samples': 0.9788975989318363}. Best is trial 31 with value: 0.1554750252176187.\u001b[0m\n",
      "\u001b[32m[I 2020-12-13 02:09:33,982]\u001b[0m Trial 56 finished with value: 0.14817670545294095 and parameters: {'n_estimators': 250, 'min_samples_split': 2, 'min_samples_leaf': 1, 'bootstrap': False, 'max_depth': 22.50731699299881, 'max_features': 0.6997282843938417, 'max_samples': 0.9380737488441886}. Best is trial 31 with value: 0.1554750252176187.\u001b[0m\n",
      "\u001b[32m[I 2020-12-13 02:09:58,342]\u001b[0m Trial 57 finished with value: 0.11247937007248014 and parameters: {'n_estimators': 250, 'min_samples_split': 2, 'min_samples_leaf': 1, 'bootstrap': False, 'max_depth': 8.530139960561804, 'max_features': 0.9649935003418334, 'max_samples': 0.9552719414789355}. Best is trial 31 with value: 0.1554750252176187.\u001b[0m\n",
      "\u001b[32m[I 2020-12-13 02:10:46,456]\u001b[0m Trial 58 finished with value: 0.142197079289053 and parameters: {'n_estimators': 200, 'min_samples_split': 2, 'min_samples_leaf': 1, 'bootstrap': False, 'max_depth': 26.969829056201938, 'max_features': 0.8778394168227398, 'max_samples': 0.9898403893552747}. Best is trial 31 with value: 0.1554750252176187.\u001b[0m\n",
      "\u001b[32m[I 2020-12-13 02:10:49,531]\u001b[0m Trial 59 finished with value: 0.08774768332290457 and parameters: {'n_estimators': 25, 'min_samples_split': 10, 'min_samples_leaf': 1, 'bootstrap': True, 'max_depth': 14.83982135883332, 'max_features': 0.8009106565248564, 'max_samples': 0.9670814415579546}. Best is trial 31 with value: 0.1554750252176187.\u001b[0m\n",
      "\u001b[32m[I 2020-12-13 02:10:55,189]\u001b[0m Trial 60 finished with value: 0.11357880381842977 and parameters: {'n_estimators': 75, 'min_samples_split': 2, 'min_samples_leaf': 1, 'bootstrap': False, 'max_depth': 38.895631520089346, 'max_features': 0.2735201977626773, 'max_samples': 0.9379204672411727}. Best is trial 31 with value: 0.1554750252176187.\u001b[0m\n",
      "\u001b[32m[I 2020-12-13 02:11:36,132]\u001b[0m Trial 61 finished with value: 0.136881433723539 and parameters: {'n_estimators': 250, 'min_samples_split': 2, 'min_samples_leaf': 1, 'bootstrap': False, 'max_depth': 21.990014598475764, 'max_features': 0.6709124535912101, 'max_samples': 0.9388655913064872}. Best is trial 31 with value: 0.1554750252176187.\u001b[0m\n",
      "\u001b[32m[I 2020-12-13 02:12:32,819]\u001b[0m Trial 62 finished with value: 0.14903422274915404 and parameters: {'n_estimators': 250, 'min_samples_split': 2, 'min_samples_leaf': 1, 'bootstrap': False, 'max_depth': 23.53102057193158, 'max_features': 0.8930022378498106, 'max_samples': 0.8979810243202275}. Best is trial 31 with value: 0.1554750252176187.\u001b[0m\n",
      "\u001b[32m[I 2020-12-13 02:13:28,650]\u001b[0m Trial 63 finished with value: 0.14499482960165452 and parameters: {'n_estimators': 250, 'min_samples_split': 2, 'min_samples_leaf': 1, 'bootstrap': False, 'max_depth': 50.4301237685597, 'max_features': 0.8928262017660231, 'max_samples': 0.8987730600948421}. Best is trial 31 with value: 0.1554750252176187.\u001b[0m\n",
      "\u001b[32m[I 2020-12-13 02:14:02,420]\u001b[0m Trial 64 finished with value: 0.1457215246607243 and parameters: {'n_estimators': 150, 'min_samples_split': 2, 'min_samples_leaf': 1, 'bootstrap': False, 'max_depth': 26.86291362568872, 'max_features': 0.8561046195209133, 'max_samples': 0.9221921427630387}. Best is trial 31 with value: 0.1554750252176187.\u001b[0m\n",
      "\u001b[32m[I 2020-12-13 02:14:58,579]\u001b[0m Trial 65 finished with value: 0.14182051258583536 and parameters: {'n_estimators': 225, 'min_samples_split': 2, 'min_samples_leaf': 1, 'bootstrap': False, 'max_depth': 34.2067744502321, 'max_features': 0.9449727394979162, 'max_samples': 0.9259485364947189}. Best is trial 31 with value: 0.1554750252176187.\u001b[0m\n",
      "\u001b[32m[I 2020-12-13 02:15:09,274]\u001b[0m Trial 66 finished with value: 0.1387940117065624 and parameters: {'n_estimators': 50, 'min_samples_split': 2, 'min_samples_leaf': 1, 'bootstrap': False, 'max_depth': 23.88875495292353, 'max_features': 0.8387337518460632, 'max_samples': 0.9760315893080928}. Best is trial 31 with value: 0.1554750252176187.\u001b[0m\n",
      "\u001b[32m[I 2020-12-13 02:15:46,909]\u001b[0m Trial 67 finished with value: 0.1259036209594733 and parameters: {'n_estimators': 250, 'min_samples_split': 5, 'min_samples_leaf': 1, 'bootstrap': False, 'max_depth': 12.785946949915385, 'max_features': 0.97138770843271, 'max_samples': 0.880083536565341}. Best is trial 31 with value: 0.1554750252176187.\u001b[0m\n",
      "\u001b[32m[I 2020-12-13 02:16:33,966]\u001b[0m Trial 68 finished with value: 0.1473817356586095 and parameters: {'n_estimators': 250, 'min_samples_split': 2, 'min_samples_leaf': 1, 'bootstrap': False, 'max_depth': 16.85562760446674, 'max_features': 0.9317032753915517, 'max_samples': 0.9567447238368881}. Best is trial 31 with value: 0.1554750252176187.\u001b[0m\n",
      "\u001b[32m[I 2020-12-13 02:17:26,410]\u001b[0m Trial 69 finished with value: 0.14780235210143566 and parameters: {'n_estimators': 250, 'min_samples_split': 2, 'min_samples_leaf': 1, 'bootstrap': False, 'max_depth': 19.053153967803354, 'max_features': 0.9014105295897209, 'max_samples': 0.9643057197546022}. Best is trial 31 with value: 0.1554750252176187.\u001b[0m\n",
      "\u001b[32m[I 2020-12-13 02:18:15,120]\u001b[0m Trial 70 finished with value: 0.11843577931202036 and parameters: {'n_estimators': 250, 'min_samples_split': 2, 'min_samples_leaf': 2, 'bootstrap': False, 'max_depth': 28.081887129904967, 'max_features': 0.7835197691093712, 'max_samples': 0.9432580540101895}. Best is trial 31 with value: 0.1554750252176187.\u001b[0m\n",
      "\u001b[32m[I 2020-12-13 02:18:53,401]\u001b[0m Trial 71 finished with value: 0.13764288347470657 and parameters: {'n_estimators': 250, 'min_samples_split': 2, 'min_samples_leaf': 1, 'bootstrap': False, 'max_depth': 23.898135001739032, 'max_features': 0.623706199759463, 'max_samples': 0.9284265835585803}. Best is trial 31 with value: 0.1554750252176187.\u001b[0m\n"
     ]
    },
    {
     "name": "stderr",
     "output_type": "stream",
     "text": [
      "\u001b[32m[I 2020-12-13 02:19:48,804]\u001b[0m Trial 72 finished with value: 0.14155585232989992 and parameters: {'n_estimators': 250, 'min_samples_split': 2, 'min_samples_leaf': 1, 'bootstrap': False, 'max_depth': 38.50523768364487, 'max_features': 0.8630224627288589, 'max_samples': 0.9074896897398074}. Best is trial 31 with value: 0.1554750252176187.\u001b[0m\n",
      "\u001b[32m[I 2020-12-13 02:20:48,686]\u001b[0m Trial 73 finished with value: 0.1422258703966196 and parameters: {'n_estimators': 250, 'min_samples_split': 2, 'min_samples_leaf': 1, 'bootstrap': False, 'max_depth': 31.55012067095257, 'max_features': 0.9208514030524435, 'max_samples': 0.6140693440339919}. Best is trial 31 with value: 0.1554750252176187.\u001b[0m\n",
      "\u001b[32m[I 2020-12-13 02:21:04,670]\u001b[0m Trial 74 finished with value: 0.1334286369937432 and parameters: {'n_estimators': 75, 'min_samples_split': 2, 'min_samples_leaf': 1, 'bootstrap': False, 'max_depth': 43.64709727960949, 'max_features': 0.7979712981067206, 'max_samples': 0.9425731646177548}. Best is trial 31 with value: 0.1554750252176187.\u001b[0m\n",
      "\u001b[32m[I 2020-12-13 02:21:50,893]\u001b[0m Trial 75 finished with value: 0.14526192000687935 and parameters: {'n_estimators': 250, 'min_samples_split': 2, 'min_samples_leaf': 1, 'bootstrap': False, 'max_depth': 21.87078856756431, 'max_features': 0.7608407498116985, 'max_samples': 0.8909980690967885}. Best is trial 31 with value: 0.1554750252176187.\u001b[0m\n",
      "\u001b[32m[I 2020-12-13 02:22:11,481]\u001b[0m Trial 76 finished with value: 0.11003534654986939 and parameters: {'n_estimators': 150, 'min_samples_split': 2, 'min_samples_leaf': 4, 'bootstrap': False, 'max_depth': 16.244739285269212, 'max_features': 0.6947939165649595, 'max_samples': 0.9172058385889997}. Best is trial 31 with value: 0.1554750252176187.\u001b[0m\n",
      "\u001b[32m[I 2020-12-13 02:22:17,493]\u001b[0m Trial 77 finished with value: 0.15310257568412947 and parameters: {'n_estimators': 25, 'min_samples_split': 2, 'min_samples_leaf': 1, 'bootstrap': False, 'max_depth': 19.537863562474588, 'max_features': 0.8975896810146493, 'max_samples': 0.9293184150248541}. Best is trial 31 with value: 0.1554750252176187.\u001b[0m\n",
      "\u001b[32m[I 2020-12-13 02:22:21,134]\u001b[0m Trial 78 finished with value: 0.08419048800436746 and parameters: {'n_estimators': 25, 'min_samples_split': 2, 'min_samples_leaf': 1, 'bootstrap': True, 'max_depth': 19.705429500104884, 'max_features': 0.9008142026593716, 'max_samples': 0.9795633830619839}. Best is trial 31 with value: 0.1554750252176187.\u001b[0m\n",
      "\u001b[32m[I 2020-12-13 02:22:23,222]\u001b[0m Trial 79 finished with value: 0.1016453715198485 and parameters: {'n_estimators': 25, 'min_samples_split': 10, 'min_samples_leaf': 1, 'bootstrap': False, 'max_depth': 6.560572808634694, 'max_features': 0.8340245670766838, 'max_samples': 0.9585429797237713}. Best is trial 31 with value: 0.1554750252176187.\u001b[0m\n",
      "\u001b[32m[I 2020-12-13 02:22:29,955]\u001b[0m Trial 80 finished with value: 0.13948291969662008 and parameters: {'n_estimators': 25, 'min_samples_split': 2, 'min_samples_leaf': 1, 'bootstrap': False, 'max_depth': 55.43407448944308, 'max_features': 0.9806568896663804, 'max_samples': 0.8549721123289148}. Best is trial 31 with value: 0.1554750252176187.\u001b[0m\n",
      "\u001b[32m[I 2020-12-13 02:23:12,750]\u001b[0m Trial 81 finished with value: 0.14252660955689336 and parameters: {'n_estimators': 175, 'min_samples_split': 2, 'min_samples_leaf': 1, 'bootstrap': False, 'max_depth': 29.071899803629318, 'max_features': 0.9468789555170881, 'max_samples': 0.9355236197488126}. Best is trial 31 with value: 0.1554750252176187.\u001b[0m\n",
      "\u001b[32m[I 2020-12-13 02:23:18,494]\u001b[0m Trial 82 finished with value: 0.14339227428101467 and parameters: {'n_estimators': 25, 'min_samples_split': 2, 'min_samples_leaf': 1, 'bootstrap': False, 'max_depth': 35.28339181250123, 'max_features': 0.8583967412702593, 'max_samples': 0.9499070261750036}. Best is trial 31 with value: 0.1554750252176187.\u001b[0m\n",
      "\u001b[32m[I 2020-12-13 02:24:15,699]\u001b[0m Trial 83 finished with value: 0.150422336698131 and parameters: {'n_estimators': 250, 'min_samples_split': 2, 'min_samples_leaf': 1, 'bootstrap': False, 'max_depth': 25.068843144377503, 'max_features': 0.8890487553663486, 'max_samples': 0.9076938050396507}. Best is trial 31 with value: 0.1554750252176187.\u001b[0m\n",
      "\u001b[32m[I 2020-12-13 02:24:52,454]\u001b[0m Trial 84 finished with value: 0.14902099239448638 and parameters: {'n_estimators': 175, 'min_samples_split': 2, 'min_samples_leaf': 1, 'bootstrap': False, 'max_depth': 25.91128968677551, 'max_features': 0.8843556085691885, 'max_samples': 0.9083162260364677}. Best is trial 31 with value: 0.1554750252176187.\u001b[0m\n",
      "\u001b[32m[I 2020-12-13 02:25:46,007]\u001b[0m Trial 85 finished with value: 0.1449261077551431 and parameters: {'n_estimators': 225, 'min_samples_split': 2, 'min_samples_leaf': 1, 'bootstrap': False, 'max_depth': 32.98003191162243, 'max_features': 0.922396678103227, 'max_samples': 0.8746861214739261}. Best is trial 31 with value: 0.1554750252176187.\u001b[0m\n",
      "\u001b[32m[I 2020-12-13 02:26:22,040]\u001b[0m Trial 86 finished with value: 0.14806026842445152 and parameters: {'n_estimators': 200, 'min_samples_split': 2, 'min_samples_leaf': 1, 'bootstrap': False, 'max_depth': 18.504441715874535, 'max_features': 0.806940730765028, 'max_samples': 0.9210828295138282}. Best is trial 31 with value: 0.1554750252176187.\u001b[0m\n",
      "\u001b[32m[I 2020-12-13 02:26:34,401]\u001b[0m Trial 87 finished with value: 0.145990861511508 and parameters: {'n_estimators': 50, 'min_samples_split': 2, 'min_samples_leaf': 1, 'bootstrap': False, 'max_depth': 24.03568205371279, 'max_features': 0.9469648326155927, 'max_samples': 0.8888833361975863}. Best is trial 31 with value: 0.1554750252176187.\u001b[0m\n",
      "\u001b[32m[I 2020-12-13 02:27:32,020]\u001b[0m Trial 88 finished with value: 0.13875059911981613 and parameters: {'n_estimators': 250, 'min_samples_split': 5, 'min_samples_leaf': 1, 'bootstrap': False, 'max_depth': 42.00175760154319, 'max_features': 0.889225877092216, 'max_samples': 0.904565402390191}. Best is trial 31 with value: 0.1554750252176187.\u001b[0m\n",
      "\u001b[32m[I 2020-12-13 02:28:26,668]\u001b[0m Trial 89 finished with value: 0.14129335392989814 and parameters: {'n_estimators': 250, 'min_samples_split': 2, 'min_samples_leaf': 1, 'bootstrap': False, 'max_depth': 29.327979620837127, 'max_features': 0.8473619660299224, 'max_samples': 0.9286425094437591}. Best is trial 31 with value: 0.1554750252176187.\u001b[0m\n",
      "\u001b[32m[I 2020-12-13 02:28:57,369]\u001b[0m Trial 90 finished with value: 0.14289329585477498 and parameters: {'n_estimators': 175, 'min_samples_split': 2, 'min_samples_leaf': 4, 'bootstrap': False, 'max_depth': 14.120978075318613, 'max_features': 0.9994814653901826, 'max_samples': 0.661064962529315}. Best is trial 31 with value: 0.1554750252176187.\u001b[0m\n",
      "\u001b[32m[I 2020-12-13 02:29:35,951]\u001b[0m Trial 91 finished with value: 0.14458468437771352 and parameters: {'n_estimators': 175, 'min_samples_split': 2, 'min_samples_leaf': 1, 'bootstrap': False, 'max_depth': 25.007748008023196, 'max_features': 0.8758676660149411, 'max_samples': 0.9146520867044755}. Best is trial 31 with value: 0.1554750252176187.\u001b[0m\n",
      "\u001b[32m[I 2020-12-13 02:30:17,378]\u001b[0m Trial 92 finished with value: 0.14739753997465818 and parameters: {'n_estimators': 175, 'min_samples_split': 2, 'min_samples_leaf': 1, 'bootstrap': False, 'max_depth': 26.420160566441467, 'max_features': 0.9073877411356138, 'max_samples': 0.9691606884152371}. Best is trial 31 with value: 0.1554750252176187.\u001b[0m\n",
      "\u001b[32m[I 2020-12-13 02:30:56,840]\u001b[0m Trial 93 finished with value: 0.1516366175285775 and parameters: {'n_estimators': 175, 'min_samples_split': 2, 'min_samples_leaf': 1, 'bootstrap': False, 'max_depth': 31.9025805579599, 'max_features': 0.8790056255109769, 'max_samples': 0.8914104305411573}. Best is trial 31 with value: 0.1554750252176187.\u001b[0m\n",
      "\u001b[32m[I 2020-12-13 02:31:36,687]\u001b[0m Trial 94 finished with value: 0.13638190294591762 and parameters: {'n_estimators': 175, 'min_samples_split': 2, 'min_samples_leaf': 1, 'bootstrap': False, 'max_depth': 35.342499234378174, 'max_features': 0.8654070572384315, 'max_samples': 0.8957545815092838}. Best is trial 31 with value: 0.1554750252176187.\u001b[0m\n",
      "\u001b[32m[I 2020-12-13 02:32:32,392]\u001b[0m Trial 95 finished with value: 0.14293269184322135 and parameters: {'n_estimators': 250, 'min_samples_split': 2, 'min_samples_leaf': 1, 'bootstrap': False, 'max_depth': 20.39829730496938, 'max_features': 0.9324663291524077, 'max_samples': 0.9481604696153718}. Best is trial 31 with value: 0.1554750252176187.\u001b[0m\n"
     ]
    },
    {
     "name": "stderr",
     "output_type": "stream",
     "text": [
      "\u001b[32m[I 2020-12-13 02:32:53,595]\u001b[0m Trial 96 finished with value: 0.1346504551463291 and parameters: {'n_estimators': 100, 'min_samples_split': 2, 'min_samples_leaf': 1, 'bootstrap': False, 'max_depth': 30.60881800975278, 'max_features': 0.8240032068124201, 'max_samples': 0.8717675566225854}. Best is trial 31 with value: 0.1554750252176187.\u001b[0m\n",
      "\u001b[32m[I 2020-12-13 02:33:53,858]\u001b[0m Trial 97 finished with value: 0.1405983168897674 and parameters: {'n_estimators': 250, 'min_samples_split': 2, 'min_samples_leaf': 2, 'bootstrap': False, 'max_depth': 46.12399005245475, 'max_features': 0.9542125850432854, 'max_samples': 0.8498936107697954}. Best is trial 31 with value: 0.1554750252176187.\u001b[0m\n",
      "\u001b[32m[I 2020-12-13 02:34:33,748]\u001b[0m Trial 98 finished with value: 0.150307177005207 and parameters: {'n_estimators': 175, 'min_samples_split': 2, 'min_samples_leaf': 1, 'bootstrap': False, 'max_depth': 35.98307208217511, 'max_features': 0.8961145079190382, 'max_samples': 0.8861801263137895}. Best is trial 31 with value: 0.1554750252176187.\u001b[0m\n",
      "\u001b[32m[I 2020-12-13 02:34:54,588]\u001b[0m Trial 99 finished with value: 0.09848647485806812 and parameters: {'n_estimators': 175, 'min_samples_split': 2, 'min_samples_leaf': 1, 'bootstrap': True, 'max_depth': 40.48190298753635, 'max_features': 0.914517022925841, 'max_samples': 0.9801651508385869}. Best is trial 31 with value: 0.1554750252176187.\u001b[0m\n"
     ]
    }
   ],
   "source": [
    "# Step 4: Running it\n",
    "study = optuna.create_study(direction=\"maximize\")\n",
    "study.optimize(objective, n_trials=100)"
   ]
  },
  {
   "cell_type": "code",
   "execution_count": 25,
   "metadata": {},
   "outputs": [
    {
     "name": "stdout",
     "output_type": "stream",
     "text": [
      "The best value is : \n",
      "0.1554750252176187\n",
      "The best parameters are : \n",
      "{'n_estimators': 175, 'min_samples_split': 2, 'min_samples_leaf': 1, 'bootstrap': False, 'max_depth': 33.24780175588958, 'max_features': 0.8962283675436249, 'max_samples': 0.9846462428612502}\n"
     ]
    }
   ],
   "source": [
    "# f_beta\n",
    "print(f\"The best value is : \\n{study.best_value}\")\n",
    "print(f\"The best parameters are : \\n{study.best_params}\")"
   ]
  },
  {
   "cell_type": "code",
   "execution_count": null,
   "metadata": {},
   "outputs": [],
   "source": []
  },
  {
   "cell_type": "code",
   "execution_count": null,
   "metadata": {},
   "outputs": [],
   "source": []
  },
  {
   "cell_type": "code",
   "execution_count": 19,
   "metadata": {},
   "outputs": [
    {
     "name": "stdout",
     "output_type": "stream",
     "text": [
      "The best trial is : \n",
      "FrozenTrial(number=22, value=0.14858269838093754, datetime_start=datetime.datetime(2020, 12, 11, 23, 44, 20, 473750), datetime_complete=datetime.datetime(2020, 12, 11, 23, 44, 39, 415577), params={'n_estimators': 75, 'min_samples_split': 10, 'min_samples_leaf': 1, 'bootstrap': False, 'max_depth': 14.822865724153461, 'max_features': 0.9989247644028549, 'max_samples': 0.936862230757678}, distributions={'n_estimators': CategoricalDistribution(choices=(25, 50, 75, 100, 125, 150, 175, 200, 225, 250)), 'min_samples_split': CategoricalDistribution(choices=(2, 5, 10)), 'min_samples_leaf': CategoricalDistribution(choices=(1, 2, 4)), 'bootstrap': CategoricalDistribution(choices=(True, False)), 'max_depth': LogUniformDistribution(high=64, low=1), 'max_features': UniformDistribution(high=1.0, low=0.15), 'max_samples': UniformDistribution(high=0.99, low=0.6)}, user_attrs={}, system_attrs={}, intermediate_values={}, trial_id=22, state=TrialState.COMPLETE)\n"
     ]
    }
   ],
   "source": [
    "print(f\"The best trial is : \\n{study.best_trial}\")"
   ]
  },
  {
   "cell_type": "code",
   "execution_count": 20,
   "metadata": {},
   "outputs": [
    {
     "name": "stdout",
     "output_type": "stream",
     "text": [
      "The best value is : \n",
      "0.14858269838093754\n"
     ]
    }
   ],
   "source": [
    "print(f\"The best value is : \\n{study.best_value}\")"
   ]
  },
  {
   "cell_type": "code",
   "execution_count": 21,
   "metadata": {},
   "outputs": [
    {
     "name": "stdout",
     "output_type": "stream",
     "text": [
      "The best parameters are : \n",
      "{'n_estimators': 75, 'min_samples_split': 10, 'min_samples_leaf': 1, 'bootstrap': False, 'max_depth': 14.822865724153461, 'max_features': 0.9989247644028549, 'max_samples': 0.936862230757678}\n"
     ]
    }
   ],
   "source": [
    "print(f\"The best parameters are : \\n{study.best_params}\")"
   ]
  },
  {
   "cell_type": "code",
   "execution_count": 5,
   "metadata": {},
   "outputs": [],
   "source": [
    "best_parms = {'n_estimators': 75, 'min_samples_split': 10, 'min_samples_leaf': 1, 'bootstrap': False, 'max_depth': 14.822865724153461, 'max_features': 0.9989247644028549, 'max_samples': 0.936862230757678}"
   ]
  },
  {
   "cell_type": "code",
   "execution_count": 13,
   "metadata": {},
   "outputs": [
    {
     "data": {
      "text/plain": [
       "RandomForestClassifier(bootstrap=False, max_depth=14.822865724153461,\n",
       "                       max_features=0.9989247644028549,\n",
       "                       max_samples=0.936862230757678, min_samples_split=10,\n",
       "                       n_estimators=75)"
      ]
     },
     "execution_count": 13,
     "metadata": {},
     "output_type": "execute_result"
    }
   ],
   "source": [
    "\n",
    "clf = RandomForestClassifier(**best_parms)\n",
    "clf.fit(train_x, train_y)"
   ]
  },
  {
   "cell_type": "code",
   "execution_count": 15,
   "metadata": {},
   "outputs": [
    {
     "data": {
      "text/plain": [
       "Index(['專案時數', '專案總數', '特殊專案佔比', '訓練時數A', '訓練時數B', '訓練時數C', '生產總額', '榮譽數',\n",
       "       '升遷速度', '近三月請假數A', '近一年請假數A', '近三月請假數B', '近一年請假數B', '出差數A', '出差數B',\n",
       "       '出差集中度', '年度績效等級A', '年度績效等級B', '年度績效等級C', '年齡層級', '年資層級A', '年資層級B',\n",
       "       '年資層級C', '任職前工作平均年數', '眷屬量', '通勤成本', '歸屬部門', 'sex_0.0', 'sex_1.0',\n",
       "       '工作分類_1.0', '工作分類_2.0', '職等_1.0', '職等_2.0', '職等_3.0', '職等_4.0',\n",
       "       '職等_5.0', '職等_6.0', '職等_7.0', '職等_8.0', '廠區代碼_2.0', '廠區代碼_4.0',\n",
       "       '廠區代碼_5.0', '廠區代碼_6.0', '廠區代碼_8.0', '廠區代碼_9.0', '廠區代碼_10.0',\n",
       "       '廠區代碼_11.0', '廠區代碼_13.0', '廠區代碼_14.0', '廠區代碼_16.0', '廠區代碼_17.0',\n",
       "       '廠區代碼_18.0', '廠區代碼_19.0', '廠區代碼_20.0', '管理層級_1.0', '管理層級_2.0',\n",
       "       '管理層級_3.0', '管理層級_4.0', '管理層級_5.0', '管理層級_6.0', '工作資歷1_0.0',\n",
       "       '工作資歷1_1.0', '工作資歷2_0.0', '工作資歷2_1.0', '工作資歷3_0.0', '工作資歷3_1.0',\n",
       "       '工作資歷4_0.0', '工作資歷4_1.0', '工作資歷5_0.0', '工作資歷5_1.0', '當前專案角色_1.0',\n",
       "       '當前專案角色_2.0', '當前專案角色_3.0', '當前專案角色_5.0', '工作地點_1.0', '工作地點_2.0',\n",
       "       '工作地點_3.0', '工作地點_4.0', '工作地點_5.0', '工作地點_6.0', '工作地點_8.0', '工作地點_9.0',\n",
       "       '工作地點_11.0', '是否升遷_0.0', '是否升遷_1.0', '婚姻狀況_1.0', '婚姻狀況_2.0', '婚姻狀況_3.0',\n",
       "       '畢業科系類別_1.0', '畢業科系類別_2.0', '畢業科系類別_3.0', '畢業科系類別_4.0', '畢業科系類別_5.0',\n",
       "       '畢業科系類別_6.0', '畢業科系類別_7.0', '畢業科系類別_8.0', '畢業科系類別_9.0'],\n",
       "      dtype='object')"
      ]
     },
     "execution_count": 15,
     "metadata": {},
     "output_type": "execute_result"
    }
   ],
   "source": [
    "colnames"
   ]
  },
  {
   "cell_type": "code",
   "execution_count": 14,
   "metadata": {},
   "outputs": [
    {
     "data": {
      "image/png": "[encoded data removed]",
      "text/plain": [
       "<Figure size 576x684 with 1 Axes>"
      ]
     },
     "metadata": {
      "needs_background": "light"
     },
     "output_type": "display_data"
    }
   ],
   "source": [
    "shap_values = shap.TreeExplainer(clf).shap_values(train_x)\n",
    "shap.summary_plot(shap_values, train_x, plot_type=\"bar\")"
   ]
  },
  {
   "cell_type": "code",
   "execution_count": 18,
   "metadata": {},
   "outputs": [
    {
     "data": {
      "text/plain": [
       "Index(['年資層級B', '年資層級A', '年度績效等級C', '年齡層級', '歸屬部門', '廠區代碼_10.0', '近一年請假數A',\n",
       "       'sex_1.0', 'sex_0.0', '廠區代碼_6.0', '榮譽數', '近三月請假數A', '升遷速度', '眷屬量',\n",
       "       '生產總額', '訓練時數C', '專案時數', '近三月請假數B', '訓練時數A', '廠區代碼_19.0'],\n",
       "      dtype='object')"
      ]
     },
     "execution_count": 18,
     "metadata": {},
     "output_type": "execute_result"
    }
   ],
   "source": [
    "colnames[[21,20,18,19,26,45,10,28,27,42,7,9,8,24,6,5,0,11,3,52]]"
   ]
  },
  {
   "cell_type": "code",
   "execution_count": 33,
   "metadata": {},
   "outputs": [
    {
     "ename": "NameError",
     "evalue": "name 'plt' is not defined",
     "output_type": "error",
     "traceback": [
      "\u001b[1;31m---------------------------------------------------------------------------\u001b[0m",
      "\u001b[1;31mNameError\u001b[0m                                 Traceback (most recent call last)",
      "\u001b[1;32m<ipython-input-33-54054a3c9f68>\u001b[0m in \u001b[0;36m<module>\u001b[1;34m\u001b[0m\n\u001b[0;32m      1\u001b[0m \u001b[0msorted_idx\u001b[0m \u001b[1;33m=\u001b[0m \u001b[0mclf\u001b[0m\u001b[1;33m.\u001b[0m\u001b[0mfeature_importances_\u001b[0m\u001b[1;33m.\u001b[0m\u001b[0margsort\u001b[0m\u001b[1;33m(\u001b[0m\u001b[1;33m)\u001b[0m\u001b[1;33m\u001b[0m\u001b[1;33m\u001b[0m\u001b[0m\n\u001b[1;32m----> 2\u001b[1;33m \u001b[0mplt\u001b[0m\u001b[1;33m.\u001b[0m\u001b[0mbarh\u001b[0m\u001b[1;33m(\u001b[0m\u001b[0mtrain_x\u001b[0m\u001b[1;33m.\u001b[0m\u001b[0mcolumns\u001b[0m\u001b[1;33m[\u001b[0m\u001b[0msorted_idx\u001b[0m\u001b[1;33m]\u001b[0m\u001b[1;33m,\u001b[0m \u001b[0mclf\u001b[0m\u001b[1;33m.\u001b[0m\u001b[0mfeature_importances_\u001b[0m\u001b[1;33m[\u001b[0m\u001b[0msorted_idx\u001b[0m\u001b[1;33m]\u001b[0m\u001b[1;33m)\u001b[0m\u001b[1;33m\u001b[0m\u001b[1;33m\u001b[0m\u001b[0m\n\u001b[0m\u001b[0;32m      3\u001b[0m \u001b[0mplt\u001b[0m\u001b[1;33m.\u001b[0m\u001b[0mxlabel\u001b[0m\u001b[1;33m(\u001b[0m\u001b[1;34m\"Random Forest Feature Importance\"\u001b[0m\u001b[1;33m)\u001b[0m\u001b[1;33m\u001b[0m\u001b[1;33m\u001b[0m\u001b[0m\n",
      "\u001b[1;31mNameError\u001b[0m: name 'plt' is not defined"
     ]
    }
   ],
   "source": [
    "\n",
    "sorted_idx = clf.feature_importances_.argsort()\n",
    "plt.barh(train_x.columns[sorted_idx], clf.feature_importances_[sorted_idx])\n",
    "plt.xlabel(\"Random Forest Feature Importance\")"
   ]
  },
  {
   "cell_type": "code",
   "execution_count": null,
   "metadata": {},
   "outputs": [],
   "source": []
  }
 ],
 "metadata": {
  "kernelspec": {
   "display_name": "Python 3",
   "language": "python",
   "name": "python3"
  },
  "language_info": {
   "codemirror_mode": {
    "name": "ipython",
    "version": 3
   },
   "file_extension": ".py",
   "mimetype": "text/x-python",
   "name": "python",
   "nbconvert_exporter": "python",
   "pygments_lexer": "ipython3",
   "version": "3.7.7"
  }
 },
 "nbformat": 4,
 "nbformat_minor": 4
}
