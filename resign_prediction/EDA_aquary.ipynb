{
 "cells": [
  {
   "cell_type": "code",
   "execution_count": 4,
   "metadata": {},
   "outputs": [],
   "source": [
    "import pandas as pd\n",
    "import numpy as np\n",
    "from sklearn.model_selection import train_test_split\n"
   ]
  },
  {
   "cell_type": "code",
   "execution_count": 5,
   "metadata": {},
   "outputs": [],
   "source": [
    "clean_train=pd.read_csv('clean_train.csv')"
   ]
  },
  {
   "cell_type": "code",
   "execution_count": 6,
   "metadata": {},
   "outputs": [
    {
     "data": {
      "text/html": [
       "<div>\n",
       "<style scoped>\n",
       "    .dataframe tbody tr th:only-of-type {\n",
       "        vertical-align: middle;\n",
       "    }\n",
       "\n",
       "    .dataframe tbody tr th {\n",
       "        vertical-align: top;\n",
       "    }\n",
       "\n",
       "    .dataframe thead th {\n",
       "        text-align: right;\n",
       "    }\n",
       "</style>\n",
       "<table border=\"1\" class=\"dataframe\">\n",
       "  <thead>\n",
       "    <tr style=\"text-align: right;\">\n",
       "      <th></th>\n",
       "      <th>yyyy</th>\n",
       "      <th>PerNo</th>\n",
       "      <th>PerStatus</th>\n",
       "      <th>sex</th>\n",
       "      <th>工作分類</th>\n",
       "      <th>職等</th>\n",
       "      <th>廠區代碼</th>\n",
       "      <th>管理層級</th>\n",
       "      <th>工作資歷1</th>\n",
       "      <th>工作資歷2</th>\n",
       "      <th>...</th>\n",
       "      <th>年齡層級</th>\n",
       "      <th>婚姻狀況</th>\n",
       "      <th>年資層級A</th>\n",
       "      <th>年資層級B</th>\n",
       "      <th>年資層級C</th>\n",
       "      <th>任職前工作平均年數</th>\n",
       "      <th>畢業科系類別</th>\n",
       "      <th>眷屬量</th>\n",
       "      <th>通勤成本</th>\n",
       "      <th>歸屬部門</th>\n",
       "    </tr>\n",
       "  </thead>\n",
       "  <tbody>\n",
       "    <tr>\n",
       "      <th>0</th>\n",
       "      <td>2014</td>\n",
       "      <td>1</td>\n",
       "      <td>0</td>\n",
       "      <td>1.0</td>\n",
       "      <td>1.0</td>\n",
       "      <td>3.0</td>\n",
       "      <td>19.0</td>\n",
       "      <td>4.0</td>\n",
       "      <td>0.0</td>\n",
       "      <td>1.0</td>\n",
       "      <td>...</td>\n",
       "      <td>6.0</td>\n",
       "      <td>1.0</td>\n",
       "      <td>2.0</td>\n",
       "      <td>1.0</td>\n",
       "      <td>1.0</td>\n",
       "      <td>2.0</td>\n",
       "      <td>5.0</td>\n",
       "      <td>0.0</td>\n",
       "      <td>8.0</td>\n",
       "      <td>19138.0</td>\n",
       "    </tr>\n",
       "    <tr>\n",
       "      <th>1</th>\n",
       "      <td>2015</td>\n",
       "      <td>1</td>\n",
       "      <td>0</td>\n",
       "      <td>1.0</td>\n",
       "      <td>1.0</td>\n",
       "      <td>3.0</td>\n",
       "      <td>19.0</td>\n",
       "      <td>6.0</td>\n",
       "      <td>0.0</td>\n",
       "      <td>1.0</td>\n",
       "      <td>...</td>\n",
       "      <td>7.0</td>\n",
       "      <td>1.0</td>\n",
       "      <td>2.0</td>\n",
       "      <td>2.0</td>\n",
       "      <td>1.0</td>\n",
       "      <td>2.0</td>\n",
       "      <td>5.0</td>\n",
       "      <td>2.0</td>\n",
       "      <td>8.0</td>\n",
       "      <td>19138.0</td>\n",
       "    </tr>\n",
       "    <tr>\n",
       "      <th>2</th>\n",
       "      <td>2016</td>\n",
       "      <td>1</td>\n",
       "      <td>0</td>\n",
       "      <td>1.0</td>\n",
       "      <td>1.0</td>\n",
       "      <td>3.0</td>\n",
       "      <td>19.0</td>\n",
       "      <td>6.0</td>\n",
       "      <td>0.0</td>\n",
       "      <td>1.0</td>\n",
       "      <td>...</td>\n",
       "      <td>7.0</td>\n",
       "      <td>1.0</td>\n",
       "      <td>2.0</td>\n",
       "      <td>2.0</td>\n",
       "      <td>1.0</td>\n",
       "      <td>2.0</td>\n",
       "      <td>5.0</td>\n",
       "      <td>2.0</td>\n",
       "      <td>8.0</td>\n",
       "      <td>19138.0</td>\n",
       "    </tr>\n",
       "    <tr>\n",
       "      <th>3</th>\n",
       "      <td>2014</td>\n",
       "      <td>3</td>\n",
       "      <td>0</td>\n",
       "      <td>0.0</td>\n",
       "      <td>1.0</td>\n",
       "      <td>4.0</td>\n",
       "      <td>8.0</td>\n",
       "      <td>1.0</td>\n",
       "      <td>0.0</td>\n",
       "      <td>0.0</td>\n",
       "      <td>...</td>\n",
       "      <td>9.0</td>\n",
       "      <td>1.0</td>\n",
       "      <td>5.0</td>\n",
       "      <td>5.0</td>\n",
       "      <td>0.0</td>\n",
       "      <td>0.0</td>\n",
       "      <td>1.0</td>\n",
       "      <td>2.0</td>\n",
       "      <td>8.0</td>\n",
       "      <td>8181.0</td>\n",
       "    </tr>\n",
       "    <tr>\n",
       "      <th>4</th>\n",
       "      <td>2015</td>\n",
       "      <td>3</td>\n",
       "      <td>0</td>\n",
       "      <td>0.0</td>\n",
       "      <td>1.0</td>\n",
       "      <td>4.0</td>\n",
       "      <td>8.0</td>\n",
       "      <td>1.0</td>\n",
       "      <td>0.0</td>\n",
       "      <td>0.0</td>\n",
       "      <td>...</td>\n",
       "      <td>10.0</td>\n",
       "      <td>1.0</td>\n",
       "      <td>6.0</td>\n",
       "      <td>6.0</td>\n",
       "      <td>0.0</td>\n",
       "      <td>0.0</td>\n",
       "      <td>1.0</td>\n",
       "      <td>2.0</td>\n",
       "      <td>8.0</td>\n",
       "      <td>8181.0</td>\n",
       "    </tr>\n",
       "    <tr>\n",
       "      <th>...</th>\n",
       "      <td>...</td>\n",
       "      <td>...</td>\n",
       "      <td>...</td>\n",
       "      <td>...</td>\n",
       "      <td>...</td>\n",
       "      <td>...</td>\n",
       "      <td>...</td>\n",
       "      <td>...</td>\n",
       "      <td>...</td>\n",
       "      <td>...</td>\n",
       "      <td>...</td>\n",
       "      <td>...</td>\n",
       "      <td>...</td>\n",
       "      <td>...</td>\n",
       "      <td>...</td>\n",
       "      <td>...</td>\n",
       "      <td>...</td>\n",
       "      <td>...</td>\n",
       "      <td>...</td>\n",
       "      <td>...</td>\n",
       "      <td>...</td>\n",
       "    </tr>\n",
       "    <tr>\n",
       "      <th>10660</th>\n",
       "      <td>2015</td>\n",
       "      <td>8769</td>\n",
       "      <td>0</td>\n",
       "      <td>1.0</td>\n",
       "      <td>1.0</td>\n",
       "      <td>7.0</td>\n",
       "      <td>8.0</td>\n",
       "      <td>1.0</td>\n",
       "      <td>0.0</td>\n",
       "      <td>0.0</td>\n",
       "      <td>...</td>\n",
       "      <td>2.0</td>\n",
       "      <td>2.0</td>\n",
       "      <td>1.0</td>\n",
       "      <td>1.0</td>\n",
       "      <td>0.0</td>\n",
       "      <td>0.0</td>\n",
       "      <td>8.0</td>\n",
       "      <td>1.0</td>\n",
       "      <td>8.0</td>\n",
       "      <td>8038.0</td>\n",
       "    </tr>\n",
       "    <tr>\n",
       "      <th>10661</th>\n",
       "      <td>2016</td>\n",
       "      <td>8769</td>\n",
       "      <td>1</td>\n",
       "      <td>1.0</td>\n",
       "      <td>1.0</td>\n",
       "      <td>7.0</td>\n",
       "      <td>8.0</td>\n",
       "      <td>1.0</td>\n",
       "      <td>0.0</td>\n",
       "      <td>0.0</td>\n",
       "      <td>...</td>\n",
       "      <td>3.0</td>\n",
       "      <td>2.0</td>\n",
       "      <td>1.0</td>\n",
       "      <td>1.0</td>\n",
       "      <td>0.0</td>\n",
       "      <td>0.0</td>\n",
       "      <td>8.0</td>\n",
       "      <td>1.0</td>\n",
       "      <td>8.0</td>\n",
       "      <td>8038.0</td>\n",
       "    </tr>\n",
       "    <tr>\n",
       "      <th>10662</th>\n",
       "      <td>2014</td>\n",
       "      <td>8774</td>\n",
       "      <td>0</td>\n",
       "      <td>1.0</td>\n",
       "      <td>1.0</td>\n",
       "      <td>7.0</td>\n",
       "      <td>8.0</td>\n",
       "      <td>1.0</td>\n",
       "      <td>0.0</td>\n",
       "      <td>0.0</td>\n",
       "      <td>...</td>\n",
       "      <td>10.0</td>\n",
       "      <td>1.0</td>\n",
       "      <td>6.0</td>\n",
       "      <td>5.0</td>\n",
       "      <td>2.0</td>\n",
       "      <td>1.0</td>\n",
       "      <td>8.0</td>\n",
       "      <td>2.0</td>\n",
       "      <td>8.0</td>\n",
       "      <td>8012.0</td>\n",
       "    </tr>\n",
       "    <tr>\n",
       "      <th>10663</th>\n",
       "      <td>2015</td>\n",
       "      <td>8774</td>\n",
       "      <td>0</td>\n",
       "      <td>1.0</td>\n",
       "      <td>1.0</td>\n",
       "      <td>7.0</td>\n",
       "      <td>8.0</td>\n",
       "      <td>1.0</td>\n",
       "      <td>0.0</td>\n",
       "      <td>0.0</td>\n",
       "      <td>...</td>\n",
       "      <td>10.0</td>\n",
       "      <td>1.0</td>\n",
       "      <td>6.0</td>\n",
       "      <td>5.0</td>\n",
       "      <td>2.0</td>\n",
       "      <td>1.0</td>\n",
       "      <td>8.0</td>\n",
       "      <td>2.0</td>\n",
       "      <td>8.0</td>\n",
       "      <td>8012.0</td>\n",
       "    </tr>\n",
       "    <tr>\n",
       "      <th>10664</th>\n",
       "      <td>2016</td>\n",
       "      <td>8774</td>\n",
       "      <td>0</td>\n",
       "      <td>1.0</td>\n",
       "      <td>1.0</td>\n",
       "      <td>7.0</td>\n",
       "      <td>8.0</td>\n",
       "      <td>1.0</td>\n",
       "      <td>0.0</td>\n",
       "      <td>0.0</td>\n",
       "      <td>...</td>\n",
       "      <td>11.0</td>\n",
       "      <td>1.0</td>\n",
       "      <td>7.0</td>\n",
       "      <td>6.0</td>\n",
       "      <td>2.0</td>\n",
       "      <td>1.0</td>\n",
       "      <td>8.0</td>\n",
       "      <td>2.0</td>\n",
       "      <td>8.0</td>\n",
       "      <td>8012.0</td>\n",
       "    </tr>\n",
       "  </tbody>\n",
       "</table>\n",
       "<p>10665 rows × 45 columns</p>\n",
       "</div>"
      ],
      "text/plain": [
       "       yyyy  PerNo  PerStatus  sex  工作分類   職等  廠區代碼  管理層級  工作資歷1  工作資歷2  ...  \\\n",
       "0      2014      1          0  1.0   1.0  3.0  19.0   4.0    0.0    1.0  ...   \n",
       "1      2015      1          0  1.0   1.0  3.0  19.0   6.0    0.0    1.0  ...   \n",
       "2      2016      1          0  1.0   1.0  3.0  19.0   6.0    0.0    1.0  ...   \n",
       "3      2014      3          0  0.0   1.0  4.0   8.0   1.0    0.0    0.0  ...   \n",
       "4      2015      3          0  0.0   1.0  4.0   8.0   1.0    0.0    0.0  ...   \n",
       "...     ...    ...        ...  ...   ...  ...   ...   ...    ...    ...  ...   \n",
       "10660  2015   8769          0  1.0   1.0  7.0   8.0   1.0    0.0    0.0  ...   \n",
       "10661  2016   8769          1  1.0   1.0  7.0   8.0   1.0    0.0    0.0  ...   \n",
       "10662  2014   8774          0  1.0   1.0  7.0   8.0   1.0    0.0    0.0  ...   \n",
       "10663  2015   8774          0  1.0   1.0  7.0   8.0   1.0    0.0    0.0  ...   \n",
       "10664  2016   8774          0  1.0   1.0  7.0   8.0   1.0    0.0    0.0  ...   \n",
       "\n",
       "       年齡層級  婚姻狀況  年資層級A  年資層級B  年資層級C  任職前工作平均年數  畢業科系類別  眷屬量  通勤成本     歸屬部門  \n",
       "0       6.0   1.0    2.0    1.0    1.0        2.0     5.0  0.0   8.0  19138.0  \n",
       "1       7.0   1.0    2.0    2.0    1.0        2.0     5.0  2.0   8.0  19138.0  \n",
       "2       7.0   1.0    2.0    2.0    1.0        2.0     5.0  2.0   8.0  19138.0  \n",
       "3       9.0   1.0    5.0    5.0    0.0        0.0     1.0  2.0   8.0   8181.0  \n",
       "4      10.0   1.0    6.0    6.0    0.0        0.0     1.0  2.0   8.0   8181.0  \n",
       "...     ...   ...    ...    ...    ...        ...     ...  ...   ...      ...  \n",
       "10660   2.0   2.0    1.0    1.0    0.0        0.0     8.0  1.0   8.0   8038.0  \n",
       "10661   3.0   2.0    1.0    1.0    0.0        0.0     8.0  1.0   8.0   8038.0  \n",
       "10662  10.0   1.0    6.0    5.0    2.0        1.0     8.0  2.0   8.0   8012.0  \n",
       "10663  10.0   1.0    6.0    5.0    2.0        1.0     8.0  2.0   8.0   8012.0  \n",
       "10664  11.0   1.0    7.0    6.0    2.0        1.0     8.0  2.0   8.0   8012.0  \n",
       "\n",
       "[10665 rows x 45 columns]"
      ]
     },
     "execution_count": 6,
     "metadata": {},
     "output_type": "execute_result"
    }
   ],
   "source": [
    "clean_train"
   ]
  },
  {
   "cell_type": "code",
   "execution_count": 21,
   "metadata": {},
   "outputs": [],
   "source": [
    "resign_id = clean_train[clean_train.PerStatus == 1].PerNo.values\n",
    "resign_year = clean_train[clean_train.PerStatus == 1].yyyy.values"
   ]
  },
  {
   "cell_type": "code",
   "execution_count": null,
   "metadata": {},
   "outputs": [],
   "source": []
  },
  {
   "cell_type": "code",
   "execution_count": null,
   "metadata": {},
   "outputs": [],
   "source": [
    "or (clean_train.yyyy == (year-1))"
   ]
  },
  {
   "cell_type": "code",
   "execution_count": 35,
   "metadata": {
    "scrolled": true
   },
   "outputs": [
    {
     "data": {
      "text/plain": [
       "1"
      ]
     },
     "execution_count": 35,
     "metadata": {},
     "output_type": "execute_result"
    }
   ],
   "source": [
    "clean_train[(clean_train.PerNo == 28) ].shape[0]"
   ]
  },
  {
   "cell_type": "code",
   "execution_count": 29,
   "metadata": {},
   "outputs": [
    {
     "data": {
      "text/plain": [
       "array([ 14,  28,  54, 105, 116], dtype=int64)"
      ]
     },
     "execution_count": 29,
     "metadata": {},
     "output_type": "execute_result"
    }
   ],
   "source": [
    "resign_id[:5]"
   ]
  },
  {
   "cell_type": "code",
   "execution_count": 28,
   "metadata": {},
   "outputs": [
    {
     "data": {
      "text/plain": [
       "array([2016, 2014, 2014, 2014, 2014], dtype=int64)"
      ]
     },
     "execution_count": 28,
     "metadata": {},
     "output_type": "execute_result"
    }
   ],
   "source": [
    "resign_year[:5]"
   ]
  },
  {
   "cell_type": "code",
   "execution_count": 26,
   "metadata": {},
   "outputs": [
    {
     "name": "stdout",
     "output_type": "stream",
     "text": [
      "    yyyy  PerNo  PerStatus  sex  工作分類   職等  廠區代碼  管理層級  工作資歷1  工作資歷2  ...  \\\n",
      "15  2015     14          0  1.0   1.0  7.0   4.0   1.0    0.0    0.0  ...   \n",
      "\n",
      "    年齡層級  婚姻狀況  年資層級A  年資層級B  年資層級C  任職前工作平均年數  畢業科系類別  眷屬量  通勤成本    歸屬部門  \n",
      "15   2.0   2.0    1.0    1.0    0.0        0.0     5.0  0.0   8.0  4045.0  \n",
      "\n",
      "[1 rows x 45 columns]\n",
      "Empty DataFrame\n",
      "Columns: [yyyy, PerNo, PerStatus, sex, 工作分類, 職等, 廠區代碼, 管理層級, 工作資歷1, 工作資歷2, 工作資歷3, 工作資歷4, 工作資歷5, 專案時數, 專案總數, 當前專案角色, 特殊專案佔比, 工作地點, 訓練時數A, 訓練時數B, 訓練時數C, 生產總額, 榮譽數, 是否升遷, 升遷速度, 近三月請假數A, 近一年請假數A, 近三月請假數B, 近一年請假數B, 出差數A, 出差數B, 出差集中度, 年度績效等級A, 年度績效等級B, 年度績效等級C, 年齡層級, 婚姻狀況, 年資層級A, 年資層級B, 年資層級C, 任職前工作平均年數, 畢業科系類別, 眷屬量, 通勤成本, 歸屬部門]\n",
      "Index: []\n",
      "\n",
      "[0 rows x 45 columns]\n",
      "Empty DataFrame\n",
      "Columns: [yyyy, PerNo, PerStatus, sex, 工作分類, 職等, 廠區代碼, 管理層級, 工作資歷1, 工作資歷2, 工作資歷3, 工作資歷4, 工作資歷5, 專案時數, 專案總數, 當前專案角色, 特殊專案佔比, 工作地點, 訓練時數A, 訓練時數B, 訓練時數C, 生產總額, 榮譽數, 是否升遷, 升遷速度, 近三月請假數A, 近一年請假數A, 近三月請假數B, 近一年請假數B, 出差數A, 出差數B, 出差集中度, 年度績效等級A, 年度績效等級B, 年度績效等級C, 年齡層級, 婚姻狀況, 年資層級A, 年資層級B, 年資層級C, 任職前工作平均年數, 畢業科系類別, 眷屬量, 通勤成本, 歸屬部門]\n",
      "Index: []\n",
      "\n",
      "[0 rows x 45 columns]\n",
      "Empty DataFrame\n",
      "Columns: [yyyy, PerNo, PerStatus, sex, 工作分類, 職等, 廠區代碼, 管理層級, 工作資歷1, 工作資歷2, 工作資歷3, 工作資歷4, 工作資歷5, 專案時數, 專案總數, 當前專案角色, 特殊專案佔比, 工作地點, 訓練時數A, 訓練時數B, 訓練時數C, 生產總額, 榮譽數, 是否升遷, 升遷速度, 近三月請假數A, 近一年請假數A, 近三月請假數B, 近一年請假數B, 出差數A, 出差數B, 出差集中度, 年度績效等級A, 年度績效等級B, 年度績效等級C, 年齡層級, 婚姻狀況, 年資層級A, 年資層級B, 年資層級C, 任職前工作平均年數, 畢業科系類別, 眷屬量, 通勤成本, 歸屬部門]\n",
      "Index: []\n",
      "\n",
      "[0 rows x 45 columns]\n",
      "Empty DataFrame\n",
      "Columns: [yyyy, PerNo, PerStatus, sex, 工作分類, 職等, 廠區代碼, 管理層級, 工作資歷1, 工作資歷2, 工作資歷3, 工作資歷4, 工作資歷5, 專案時數, 專案總數, 當前專案角色, 特殊專案佔比, 工作地點, 訓練時數A, 訓練時數B, 訓練時數C, 生產總額, 榮譽數, 是否升遷, 升遷速度, 近三月請假數A, 近一年請假數A, 近三月請假數B, 近一年請假數B, 出差數A, 出差數B, 出差集中度, 年度績效等級A, 年度績效等級B, 年度績效等級C, 年齡層級, 婚姻狀況, 年資層級A, 年資層級B, 年資層級C, 任職前工作平均年數, 畢業科系類別, 眷屬量, 通勤成本, 歸屬部門]\n",
      "Index: []\n",
      "\n",
      "[0 rows x 45 columns]\n"
     ]
    }
   ],
   "source": [
    "for i in np.arange(len(resign_id[:5])):\n",
    "    no = resign_id[i]\n",
    "    year = resign_year[i]\n",
    "    print(clean_train[(clean_train.PerNo == no) & (clean_train.yyyy == (yyyy-1))   ])"
   ]
  },
  {
   "cell_type": "code",
   "execution_count": 38,
   "metadata": {},
   "outputs": [],
   "source": [
    "for i in resign_id:\n",
    "    work_year = []\n",
    "    work_year.append(clean_train[(clean_train.PerNo == i)].shape[0])"
   ]
  },
  {
   "cell_type": "code",
   "execution_count": 40,
   "metadata": {},
   "outputs": [
    {
     "data": {
      "text/plain": [
       "array([  14,   28,   54,  105,  116,  123,  125,  142,  144,  152,  156,\n",
       "        167,  173,  176,  180,  190,  229,  232,  234,  262,  275,  284,\n",
       "        297,  312,  354,  359,  375,  386,  418,  420,  428,  436,  454,\n",
       "        463,  473,  476,  513,  528,  538,  541,  588,  591,  593,  617,\n",
       "        646,  647,  717,  761,  773,  804,  806,  819,  828,  830,  848,\n",
       "        861,  868,  880,  884,  892,  893,  915,  917,  982,  989,  998,\n",
       "       1021, 1040, 1049, 1055, 1069, 1111, 1122, 1142, 1144, 1151, 1156,\n",
       "       1162, 1164, 1169, 1210, 1226, 1231, 1248, 1276, 1277, 1290, 1291,\n",
       "       1305, 1337, 1381, 1389, 1414, 1419, 1421, 1422, 1432, 1442, 1446,\n",
       "       1451, 1460, 1493, 1506, 1517, 1529, 1536, 1571, 1577, 1579, 1594,\n",
       "       1596, 1603, 1626, 1637, 1643, 1665, 1676, 1686, 1689, 1695, 1700,\n",
       "       1703, 1704, 1707, 1717, 1718, 1719, 1737, 1740, 1759, 1774, 1800,\n",
       "       1814, 1849, 1853, 1919, 1929, 1932, 1950, 1961, 1975, 1990, 2014,\n",
       "       2026, 2031, 2046, 2060, 2093, 2138, 2165, 2172, 2192, 2208, 2229,\n",
       "       2241, 2256, 2270, 2279, 2289, 2328, 2344, 2345, 2350, 2352, 2359,\n",
       "       2384, 2394, 2416, 2435, 2442, 2453, 2475, 2481, 2484, 2504, 2514,\n",
       "       2526, 2545, 2563, 2585, 2605, 2617, 2621, 2622, 2654, 2684, 2695,\n",
       "       2700, 2732, 2751, 2788, 2814, 2815, 2823, 2830, 2859, 2881, 2885,\n",
       "       2892, 2901, 2910, 2916, 2928, 2950, 2953, 2968, 2976, 2983, 2990,\n",
       "       2994, 2998, 3004, 3026, 3046, 3048, 3069, 3073, 3080, 3094, 3100,\n",
       "       3112, 3144, 3145, 3155, 3163, 3172, 3180, 3183, 3185, 3203, 3219,\n",
       "       3232, 3243, 3248, 3252, 3284, 3287, 3329, 3336, 3337, 3341, 3356,\n",
       "       3362, 3416, 3425, 3432, 3438, 3442, 3453, 3458, 3480, 3485, 3491,\n",
       "       3493, 3508, 3517, 3530, 3550, 3579, 3592, 3602, 3604, 3614, 3617,\n",
       "       3622, 3623, 3650, 3657, 3704, 3712, 3715, 3716, 3717, 3756, 3765,\n",
       "       3775, 3786, 3787, 3792, 3799, 3812, 3857, 3863, 3891, 3898, 3920,\n",
       "       3929, 3938, 3970, 3974, 4046, 4085, 4095, 4143, 4155, 4160, 4169,\n",
       "       4172, 4176, 4185, 4192, 4195, 4199, 4217, 4225, 4227, 4270, 4275,\n",
       "       4288, 4298, 4337, 4353, 4381, 4408, 4437, 4445, 4481, 4494, 4507,\n",
       "       4511, 4528, 4556, 4562, 4568, 4580, 4584, 4590, 4623, 4658, 4664,\n",
       "       4675, 4686, 4727, 4754, 4757, 4781, 4809, 4824, 4854, 4865, 4880,\n",
       "       4883, 4884, 4904, 4905, 4915, 4928, 4931, 4967, 4980, 5000, 5027,\n",
       "       5028, 5043, 5044, 5059, 5075, 5081, 5099, 5119, 5122, 5139, 5149,\n",
       "       5162, 5164, 5166, 5180, 5185, 5199, 5257, 5258, 5319, 5329, 5332,\n",
       "       5401, 5403, 5433, 5454, 5459, 5481, 5486, 5518, 5541, 5562, 5581,\n",
       "       5584, 5600, 5601, 5602, 5620, 5621, 5625, 5626, 5628, 5633, 5644,\n",
       "       5662, 5665, 5674, 5687, 5695, 5721, 5733, 5736, 5738, 5755, 5761,\n",
       "       5763, 5770, 5808, 5837, 5858, 5859, 5863, 5894, 5902, 5913, 5920,\n",
       "       5953, 5975, 5983, 6015, 6016, 6019, 6023, 6034, 6068, 6080, 6084,\n",
       "       6100, 6109, 6117, 6130, 6140, 6165, 6180, 6189, 6214, 6239, 6266,\n",
       "       6268, 6277, 6298, 6307, 6320, 6321, 6353, 6354, 6408, 6418, 6432,\n",
       "       6435, 6445, 6449, 6464, 6495, 6497, 6515, 6527, 6532, 6536, 6576,\n",
       "       6588, 6607, 6611, 6613, 6622, 6625, 6632, 6634, 6643, 6645, 6647,\n",
       "       6659, 6668, 6693, 6705, 6768, 6810, 6830, 6832, 6839, 6846, 6856,\n",
       "       6857, 6863, 6874, 6897, 6899, 6905, 6920, 6923, 6925, 6930, 6939,\n",
       "       6949, 6950, 6951, 6965, 6982, 6986, 7017, 7038, 7052, 7066, 7080,\n",
       "       7082, 7085, 7097, 7113, 7115, 7116, 7124, 7126, 7128, 7178, 7205,\n",
       "       7223, 7231, 7240, 7242, 7258, 7280, 7317, 7331, 7335, 7337, 7342,\n",
       "       7345, 7357, 7368, 7369, 7397, 7411, 7419, 7429, 7443, 7445, 7457,\n",
       "       7459, 7491, 7496, 7498, 7505, 7515, 7524, 7549, 7557, 7559, 7577,\n",
       "       7600, 7613, 7630, 7642, 7646, 7673, 7677, 7686, 7711, 7743, 7783,\n",
       "       7792, 7794, 7814, 7877, 7887, 7904, 7909, 7930, 7940, 7947, 7989,\n",
       "       7994, 8004, 8011, 8024, 8028, 8053, 8055, 8149, 8169, 8174, 8226,\n",
       "       8229, 8238, 8260, 8269, 8276, 8293, 8299, 8304, 8320, 8327, 8330,\n",
       "       8348, 8371, 8377, 8379, 8395, 8396, 8412, 8453, 8458, 8477, 8514,\n",
       "       8528, 8552, 8569, 8594, 8603, 8612, 8638, 8668, 8678, 8701, 8714,\n",
       "       8718, 8757, 8769], dtype=int64)"
      ]
     },
     "execution_count": 40,
     "metadata": {},
     "output_type": "execute_result"
    }
   ],
   "source": [
    "resign_id"
   ]
  },
  {
   "cell_type": "code",
   "execution_count": 2,
   "metadata": {},
   "outputs": [
    {
     "data": {
      "text/html": [
       "<div>\n",
       "<style scoped>\n",
       "    .dataframe tbody tr th:only-of-type {\n",
       "        vertical-align: middle;\n",
       "    }\n",
       "\n",
       "    .dataframe tbody tr th {\n",
       "        vertical-align: top;\n",
       "    }\n",
       "\n",
       "    .dataframe thead th {\n",
       "        text-align: right;\n",
       "    }\n",
       "</style>\n",
       "<table border=\"1\" class=\"dataframe\">\n",
       "  <thead>\n",
       "    <tr style=\"text-align: right;\">\n",
       "      <th></th>\n",
       "      <th>yyyy</th>\n",
       "      <th>PerNo</th>\n",
       "      <th>PerStatus</th>\n",
       "      <th>專案時數</th>\n",
       "      <th>專案總數</th>\n",
       "      <th>特殊專案佔比</th>\n",
       "      <th>訓練時數A</th>\n",
       "      <th>訓練時數B</th>\n",
       "      <th>訓練時數C</th>\n",
       "      <th>生產總額</th>\n",
       "      <th>...</th>\n",
       "      <th>婚姻狀況_1.0</th>\n",
       "      <th>婚姻狀況_2.0</th>\n",
       "      <th>畢業科系類別_1.0</th>\n",
       "      <th>畢業科系類別_2.0</th>\n",
       "      <th>畢業科系類別_3.0</th>\n",
       "      <th>畢業科系類別_4.0</th>\n",
       "      <th>畢業科系類別_5.0</th>\n",
       "      <th>畢業科系類別_6.0</th>\n",
       "      <th>畢業科系類別_7.0</th>\n",
       "      <th>畢業科系類別_8.0</th>\n",
       "    </tr>\n",
       "  </thead>\n",
       "  <tbody>\n",
       "    <tr>\n",
       "      <th>0</th>\n",
       "      <td>2014</td>\n",
       "      <td>1</td>\n",
       "      <td>0</td>\n",
       "      <td>23.0</td>\n",
       "      <td>1.0</td>\n",
       "      <td>3.0</td>\n",
       "      <td>0.0</td>\n",
       "      <td>0.0</td>\n",
       "      <td>5.0</td>\n",
       "      <td>7.0</td>\n",
       "      <td>...</td>\n",
       "      <td>1</td>\n",
       "      <td>0</td>\n",
       "      <td>0</td>\n",
       "      <td>0</td>\n",
       "      <td>0</td>\n",
       "      <td>0</td>\n",
       "      <td>1</td>\n",
       "      <td>0</td>\n",
       "      <td>0</td>\n",
       "      <td>0</td>\n",
       "    </tr>\n",
       "    <tr>\n",
       "      <th>1</th>\n",
       "      <td>2015</td>\n",
       "      <td>1</td>\n",
       "      <td>0</td>\n",
       "      <td>23.0</td>\n",
       "      <td>2.0</td>\n",
       "      <td>1.0</td>\n",
       "      <td>0.0</td>\n",
       "      <td>0.0</td>\n",
       "      <td>8.0</td>\n",
       "      <td>9.0</td>\n",
       "      <td>...</td>\n",
       "      <td>1</td>\n",
       "      <td>0</td>\n",
       "      <td>0</td>\n",
       "      <td>0</td>\n",
       "      <td>0</td>\n",
       "      <td>0</td>\n",
       "      <td>1</td>\n",
       "      <td>0</td>\n",
       "      <td>0</td>\n",
       "      <td>0</td>\n",
       "    </tr>\n",
       "    <tr>\n",
       "      <th>2</th>\n",
       "      <td>2016</td>\n",
       "      <td>1</td>\n",
       "      <td>0</td>\n",
       "      <td>23.0</td>\n",
       "      <td>3.0</td>\n",
       "      <td>1.0</td>\n",
       "      <td>2.0</td>\n",
       "      <td>0.0</td>\n",
       "      <td>5.0</td>\n",
       "      <td>10.0</td>\n",
       "      <td>...</td>\n",
       "      <td>1</td>\n",
       "      <td>0</td>\n",
       "      <td>0</td>\n",
       "      <td>0</td>\n",
       "      <td>0</td>\n",
       "      <td>0</td>\n",
       "      <td>1</td>\n",
       "      <td>0</td>\n",
       "      <td>0</td>\n",
       "      <td>0</td>\n",
       "    </tr>\n",
       "    <tr>\n",
       "      <th>3</th>\n",
       "      <td>2014</td>\n",
       "      <td>3</td>\n",
       "      <td>0</td>\n",
       "      <td>23.0</td>\n",
       "      <td>4.0</td>\n",
       "      <td>1.0</td>\n",
       "      <td>0.0</td>\n",
       "      <td>0.0</td>\n",
       "      <td>1.0</td>\n",
       "      <td>8.0</td>\n",
       "      <td>...</td>\n",
       "      <td>1</td>\n",
       "      <td>0</td>\n",
       "      <td>1</td>\n",
       "      <td>0</td>\n",
       "      <td>0</td>\n",
       "      <td>0</td>\n",
       "      <td>0</td>\n",
       "      <td>0</td>\n",
       "      <td>0</td>\n",
       "      <td>0</td>\n",
       "    </tr>\n",
       "    <tr>\n",
       "      <th>4</th>\n",
       "      <td>2015</td>\n",
       "      <td>3</td>\n",
       "      <td>0</td>\n",
       "      <td>23.0</td>\n",
       "      <td>3.0</td>\n",
       "      <td>3.0</td>\n",
       "      <td>0.0</td>\n",
       "      <td>0.0</td>\n",
       "      <td>1.0</td>\n",
       "      <td>6.0</td>\n",
       "      <td>...</td>\n",
       "      <td>1</td>\n",
       "      <td>0</td>\n",
       "      <td>1</td>\n",
       "      <td>0</td>\n",
       "      <td>0</td>\n",
       "      <td>0</td>\n",
       "      <td>0</td>\n",
       "      <td>0</td>\n",
       "      <td>0</td>\n",
       "      <td>0</td>\n",
       "    </tr>\n",
       "    <tr>\n",
       "      <th>...</th>\n",
       "      <td>...</td>\n",
       "      <td>...</td>\n",
       "      <td>...</td>\n",
       "      <td>...</td>\n",
       "      <td>...</td>\n",
       "      <td>...</td>\n",
       "      <td>...</td>\n",
       "      <td>...</td>\n",
       "      <td>...</td>\n",
       "      <td>...</td>\n",
       "      <td>...</td>\n",
       "      <td>...</td>\n",
       "      <td>...</td>\n",
       "      <td>...</td>\n",
       "      <td>...</td>\n",
       "      <td>...</td>\n",
       "      <td>...</td>\n",
       "      <td>...</td>\n",
       "      <td>...</td>\n",
       "      <td>...</td>\n",
       "      <td>...</td>\n",
       "    </tr>\n",
       "    <tr>\n",
       "      <th>10660</th>\n",
       "      <td>2015</td>\n",
       "      <td>8769</td>\n",
       "      <td>0</td>\n",
       "      <td>24.0</td>\n",
       "      <td>2.0</td>\n",
       "      <td>2.0</td>\n",
       "      <td>2.0</td>\n",
       "      <td>0.0</td>\n",
       "      <td>4.0</td>\n",
       "      <td>11.0</td>\n",
       "      <td>...</td>\n",
       "      <td>0</td>\n",
       "      <td>1</td>\n",
       "      <td>0</td>\n",
       "      <td>0</td>\n",
       "      <td>0</td>\n",
       "      <td>0</td>\n",
       "      <td>0</td>\n",
       "      <td>0</td>\n",
       "      <td>0</td>\n",
       "      <td>1</td>\n",
       "    </tr>\n",
       "    <tr>\n",
       "      <th>10661</th>\n",
       "      <td>2016</td>\n",
       "      <td>8769</td>\n",
       "      <td>1</td>\n",
       "      <td>23.0</td>\n",
       "      <td>2.0</td>\n",
       "      <td>2.0</td>\n",
       "      <td>0.0</td>\n",
       "      <td>0.0</td>\n",
       "      <td>3.0</td>\n",
       "      <td>7.0</td>\n",
       "      <td>...</td>\n",
       "      <td>0</td>\n",
       "      <td>1</td>\n",
       "      <td>0</td>\n",
       "      <td>0</td>\n",
       "      <td>0</td>\n",
       "      <td>0</td>\n",
       "      <td>0</td>\n",
       "      <td>0</td>\n",
       "      <td>0</td>\n",
       "      <td>1</td>\n",
       "    </tr>\n",
       "    <tr>\n",
       "      <th>10662</th>\n",
       "      <td>2014</td>\n",
       "      <td>8774</td>\n",
       "      <td>0</td>\n",
       "      <td>23.0</td>\n",
       "      <td>1.0</td>\n",
       "      <td>0.0</td>\n",
       "      <td>0.0</td>\n",
       "      <td>0.0</td>\n",
       "      <td>1.0</td>\n",
       "      <td>2.0</td>\n",
       "      <td>...</td>\n",
       "      <td>1</td>\n",
       "      <td>0</td>\n",
       "      <td>0</td>\n",
       "      <td>0</td>\n",
       "      <td>0</td>\n",
       "      <td>0</td>\n",
       "      <td>0</td>\n",
       "      <td>0</td>\n",
       "      <td>0</td>\n",
       "      <td>1</td>\n",
       "    </tr>\n",
       "    <tr>\n",
       "      <th>10663</th>\n",
       "      <td>2015</td>\n",
       "      <td>8774</td>\n",
       "      <td>0</td>\n",
       "      <td>22.0</td>\n",
       "      <td>1.0</td>\n",
       "      <td>0.0</td>\n",
       "      <td>0.0</td>\n",
       "      <td>0.0</td>\n",
       "      <td>0.0</td>\n",
       "      <td>2.0</td>\n",
       "      <td>...</td>\n",
       "      <td>1</td>\n",
       "      <td>0</td>\n",
       "      <td>0</td>\n",
       "      <td>0</td>\n",
       "      <td>0</td>\n",
       "      <td>0</td>\n",
       "      <td>0</td>\n",
       "      <td>0</td>\n",
       "      <td>0</td>\n",
       "      <td>1</td>\n",
       "    </tr>\n",
       "    <tr>\n",
       "      <th>10664</th>\n",
       "      <td>2016</td>\n",
       "      <td>8774</td>\n",
       "      <td>0</td>\n",
       "      <td>23.0</td>\n",
       "      <td>1.0</td>\n",
       "      <td>0.0</td>\n",
       "      <td>0.0</td>\n",
       "      <td>0.0</td>\n",
       "      <td>1.0</td>\n",
       "      <td>1.0</td>\n",
       "      <td>...</td>\n",
       "      <td>1</td>\n",
       "      <td>0</td>\n",
       "      <td>0</td>\n",
       "      <td>0</td>\n",
       "      <td>0</td>\n",
       "      <td>0</td>\n",
       "      <td>0</td>\n",
       "      <td>0</td>\n",
       "      <td>0</td>\n",
       "      <td>1</td>\n",
       "    </tr>\n",
       "  </tbody>\n",
       "</table>\n",
       "<p>10665 rows × 85 columns</p>\n",
       "</div>"
      ],
      "text/plain": [
       "       yyyy  PerNo  PerStatus  專案時數  專案總數  特殊專案佔比  訓練時數A  訓練時數B  訓練時數C  生產總額  \\\n",
       "0      2014      1          0  23.0   1.0     3.0    0.0    0.0    5.0   7.0   \n",
       "1      2015      1          0  23.0   2.0     1.0    0.0    0.0    8.0   9.0   \n",
       "2      2016      1          0  23.0   3.0     1.0    2.0    0.0    5.0  10.0   \n",
       "3      2014      3          0  23.0   4.0     1.0    0.0    0.0    1.0   8.0   \n",
       "4      2015      3          0  23.0   3.0     3.0    0.0    0.0    1.0   6.0   \n",
       "...     ...    ...        ...   ...   ...     ...    ...    ...    ...   ...   \n",
       "10660  2015   8769          0  24.0   2.0     2.0    2.0    0.0    4.0  11.0   \n",
       "10661  2016   8769          1  23.0   2.0     2.0    0.0    0.0    3.0   7.0   \n",
       "10662  2014   8774          0  23.0   1.0     0.0    0.0    0.0    1.0   2.0   \n",
       "10663  2015   8774          0  22.0   1.0     0.0    0.0    0.0    0.0   2.0   \n",
       "10664  2016   8774          0  23.0   1.0     0.0    0.0    0.0    1.0   1.0   \n",
       "\n",
       "       ...  婚姻狀況_1.0  婚姻狀況_2.0  畢業科系類別_1.0  畢業科系類別_2.0  畢業科系類別_3.0  \\\n",
       "0      ...         1         0           0           0           0   \n",
       "1      ...         1         0           0           0           0   \n",
       "2      ...         1         0           0           0           0   \n",
       "3      ...         1         0           1           0           0   \n",
       "4      ...         1         0           1           0           0   \n",
       "...    ...       ...       ...         ...         ...         ...   \n",
       "10660  ...         0         1           0           0           0   \n",
       "10661  ...         0         1           0           0           0   \n",
       "10662  ...         1         0           0           0           0   \n",
       "10663  ...         1         0           0           0           0   \n",
       "10664  ...         1         0           0           0           0   \n",
       "\n",
       "       畢業科系類別_4.0  畢業科系類別_5.0  畢業科系類別_6.0  畢業科系類別_7.0  畢業科系類別_8.0  \n",
       "0               0           1           0           0           0  \n",
       "1               0           1           0           0           0  \n",
       "2               0           1           0           0           0  \n",
       "3               0           0           0           0           0  \n",
       "4               0           0           0           0           0  \n",
       "...           ...         ...         ...         ...         ...  \n",
       "10660           0           0           0           0           1  \n",
       "10661           0           0           0           0           1  \n",
       "10662           0           0           0           0           1  \n",
       "10663           0           0           0           0           1  \n",
       "10664           0           0           0           0           1  \n",
       "\n",
       "[10665 rows x 85 columns]"
      ]
     },
     "execution_count": 2,
     "metadata": {},
     "output_type": "execute_result"
    }
   ],
   "source": [
    "train=pd.read_csv('onehot_del_train.csv')\n",
    "train"
   ]
  },
  {
   "cell_type": "code",
   "execution_count": 3,
   "metadata": {},
   "outputs": [
    {
     "data": {
      "text/plain": [
       "0    3480\n",
       "1     174\n",
       "Name: PerStatus, dtype: int64"
      ]
     },
     "execution_count": 3,
     "metadata": {},
     "output_type": "execute_result"
    }
   ],
   "source": [
    "test = pd.read_csv('onehot_del_test.csv')\n",
    "test\n",
    "test['PerStatus'].value_counts()"
   ]
  },
  {
   "cell_type": "code",
   "execution_count": 4,
   "metadata": {
    "scrolled": true
   },
   "outputs": [
    {
     "data": {
      "text/plain": [
       "Index(['yyyy', 'PerNo', 'PerStatus', '專案時數', '專案總數', '特殊專案佔比', '訓練時數A',\n",
       "       '訓練時數B', '訓練時數C', '生產總額', '榮譽數', '升遷速度', '近三月請假數A', '近一年請假數A',\n",
       "       '近三月請假數B', '近一年請假數B', '出差數A', '出差數B', '出差集中度', '年度績效等級A', '年度績效等級B',\n",
       "       '年度績效等級C', '年齡層級', '年資層級A', '年資層級B', '年資層級C', '任職前工作平均年數', '眷屬量',\n",
       "       '通勤成本', '歸屬部門', 'sex_0.0', '工作分類_1.0', '職等_1.0', '職等_2.0', '職等_3.0',\n",
       "       '職等_4.0', '職等_5.0', '職等_6.0', '職等_7.0', '廠區代碼_2.0', '廠區代碼_4.0',\n",
       "       '廠區代碼_5.0', '廠區代碼_6.0', '廠區代碼_8.0', '廠區代碼_9.0', '廠區代碼_10.0',\n",
       "       '廠區代碼_11.0', '廠區代碼_13.0', '廠區代碼_14.0', '廠區代碼_16.0', '廠區代碼_17.0',\n",
       "       '廠區代碼_18.0', '廠區代碼_19.0', '管理層級_1.0', '管理層級_2.0', '管理層級_3.0',\n",
       "       '管理層級_4.0', '管理層級_5.0', '工作資歷1_0.0', '工作資歷2_0.0', '工作資歷3_0.0',\n",
       "       '工作資歷4_0.0', '工作資歷5_0.0', '當前專案角色_1.0', '當前專案角色_2.0', '當前專案角色_3.0',\n",
       "       '工作地點_1.0', '工作地點_2.0', '工作地點_3.0', '工作地點_4.0', '工作地點_5.0', '工作地點_6.0',\n",
       "       '工作地點_8.0', '工作地點_9.0', '是否升遷_0.0', '婚姻狀況_1.0', '婚姻狀況_2.0',\n",
       "       '畢業科系類別_1.0', '畢業科系類別_2.0', '畢業科系類別_3.0', '畢業科系類別_4.0', '畢業科系類別_5.0',\n",
       "       '畢業科系類別_6.0', '畢業科系類別_7.0', '畢業科系類別_8.0'],\n",
       "      dtype='object')"
      ]
     },
     "execution_count": 4,
     "metadata": {},
     "output_type": "execute_result"
    }
   ],
   "source": [
    "train.columns"
   ]
  },
  {
   "cell_type": "code",
   "execution_count": 6,
   "metadata": {},
   "outputs": [],
   "source": [
    "y_train = train['PerStatus']\n",
    "X_train = train.loc[:, train.columns != 'PerStatus'] # 10065\n",
    "y_test = test['PerStatus']\n",
    "X_test = test.loc[:, train.columns != 'PerStatus'] # 3654"
   ]
  },
  {
   "cell_type": "code",
   "execution_count": 20,
   "metadata": {},
   "outputs": [
    {
     "data": {
      "text/plain": [
       "0    3480\n",
       "1     174\n",
       "Name: PerStatus, dtype: int64"
      ]
     },
     "execution_count": 20,
     "metadata": {},
     "output_type": "execute_result"
    }
   ],
   "source": []
  },
  {
   "cell_type": "code",
   "execution_count": 36,
   "metadata": {},
   "outputs": [],
   "source": [
    "from imblearn.over_sampling import SMOTE\n",
    "sm = SMOTE()\n",
    "X_train_res, y_train_res = sm.fit_sample(X_train, y_train.ravel())\n",
    "X_test_res, y_test_res = sm.fit_sample(X_test, y_test.ravel())"
   ]
  },
  {
   "cell_type": "code",
   "execution_count": 37,
   "metadata": {},
   "outputs": [
    {
     "data": {
      "text/plain": [
       "(6960, 84)"
      ]
     },
     "execution_count": 37,
     "metadata": {},
     "output_type": "execute_result"
    }
   ],
   "source": [
    "X_train_res.shape # (20092, 84)\n",
    "y_train_res.shape# (20092,)\n",
    "X_test_res.shape #(6960, 84)"
   ]
  },
  {
   "cell_type": "code",
   "execution_count": 38,
   "metadata": {},
   "outputs": [],
   "source": [
    "from sklearn.neighbors import KNeighborsClassifier\n",
    "from sklearn.naive_bayes import GaussianNB\n",
    "from sklearn.tree import DecisionTreeClassifier\n",
    "from sklearn.ensemble import RandomForestClassifier, AdaBoostClassifier\n",
    "from sklearn.model_selection import train_test_split, cross_val_score\n",
    "from sklearn.model_selection import KFold, learning_curve\n",
    "from sklearn.metrics import f1_score\n",
    "from sklearn import preprocessing\n",
    "#\n",
    "from sklearn.neural_network import MLPClassifier\n",
    "from sklearn.svm import SVC\n",
    "from sklearn.discriminant_analysis import QuadraticDiscriminantAnalysis\n"
   ]
  },
  {
   "cell_type": "code",
   "execution_count": 39,
   "metadata": {},
   "outputs": [
    {
     "name": "stdout",
     "output_type": "stream",
     "text": [
      "mean validation F1 for KNN : Accuracy: 0.64 (+/- 0.02)\n",
      "Test F1 for KNN : 0.08264462809917354\n",
      "mean validation F1 for Naive Bayes : Accuracy: 0.81 (+/- 0.06)\n",
      "Test F1 for Naive Bayes : 0.12805587892898718\n",
      "mean validation F1 for Decision Trees : Accuracy: 0.83 (+/- 0.24)\n",
      "Test F1 for Decision Trees : 0.10396039603960397\n",
      "mean validation F1 for Random Forests : Accuracy: 0.89 (+/- 0.27)\n",
      "Test F1 for Random Forests : 0.0\n",
      "mean validation F1 for AdaBoost : Accuracy: 0.78 (+/- 0.30)\n",
      "Test F1 for AdaBoost : 0.0743801652892562\n"
     ]
    },
    {
     "name": "stderr",
     "output_type": "stream",
     "text": [
      "/Applications/anaconda3/lib/python3.8/site-packages/sklearn/discriminant_analysis.py:715: UserWarning: Variables are collinear\n",
      "  warnings.warn(\"Variables are collinear\")\n",
      "/Applications/anaconda3/lib/python3.8/site-packages/sklearn/discriminant_analysis.py:715: UserWarning: Variables are collinear\n",
      "  warnings.warn(\"Variables are collinear\")\n",
      "/Applications/anaconda3/lib/python3.8/site-packages/sklearn/discriminant_analysis.py:715: UserWarning: Variables are collinear\n",
      "  warnings.warn(\"Variables are collinear\")\n",
      "/Applications/anaconda3/lib/python3.8/site-packages/sklearn/discriminant_analysis.py:715: UserWarning: Variables are collinear\n",
      "  warnings.warn(\"Variables are collinear\")\n",
      "/Applications/anaconda3/lib/python3.8/site-packages/sklearn/discriminant_analysis.py:715: UserWarning: Variables are collinear\n",
      "  warnings.warn(\"Variables are collinear\")\n",
      "/Applications/anaconda3/lib/python3.8/site-packages/sklearn/discriminant_analysis.py:715: UserWarning: Variables are collinear\n",
      "  warnings.warn(\"Variables are collinear\")\n"
     ]
    },
    {
     "name": "stdout",
     "output_type": "stream",
     "text": [
      "mean validation F1 for QDA : Accuracy: 0.73 (+/- 0.05)\n",
      "Test F1 for QDA : 0.10339384372533544\n",
      "mean validation F1 for Neural Net : Accuracy: 0.62 (+/- 0.23)\n",
      "Test F1 for Neural Net : 0.13193116634799237\n"
     ]
    }
   ],
   "source": [
    "## SMOTE for train data only\n",
    "clfs = [KNeighborsClassifier(n_neighbors = 1), \n",
    "        GaussianNB(),\n",
    "        DecisionTreeClassifier(splitter = 'random'),\n",
    "        RandomForestClassifier(),\n",
    "        AdaBoostClassifier(),\n",
    "        QuadraticDiscriminantAnalysis(),\n",
    "        MLPClassifier(alpha=1, max_iter=1000)]\n",
    "clfName = {1:'KNN', 2:'Naive Bayes', 3:'Decision Trees', 4:'Random Forests',5:'AdaBoost',\n",
    "          6:'QDA',7:\"Neural Net\"}\n",
    "\n",
    "\n",
    "for i in range(len(clfs)):\n",
    "    scores = cross_val_score(clfs[i],X_train_res, y_train_res.ravel() , cv=5, scoring = 'f1')\n",
    "    print (\"mean validation F1 for\",clfName[i+1], \":\", \n",
    "           \"Accuracy: %0.2f (+/- %0.2f)\" % (scores.mean(), scores.std() * 2))\n",
    "    clf = clfs[i].fit(X_train_res, y_train_res.ravel())\n",
    "    Y_pred = clf.predict(X_test)\n",
    "    f1 = f1_score(y_test, Y_pred)\n",
    "    print ('Test F1 for',clfName[i+1], \":\", f1)"
   ]
  },
  {
   "cell_type": "code",
   "execution_count": null,
   "metadata": {},
   "outputs": [
    {
     "name": "stdout",
     "output_type": "stream",
     "text": [
      "mean validation F1 for KNN : Accuracy: 0.64 (+/- 0.02)\n",
      "Test F1 for KNN : 0.08264462809917354\n",
      "mean validation F1 for Naive Bayes : Accuracy: 0.81 (+/- 0.06)\n",
      "Test F1 for Naive Bayes : 0.12805587892898718\n",
      "mean validation F1 for Decision Trees : Accuracy: 0.83 (+/- 0.24)\n",
      "Test F1 for Decision Trees : 0.10396039603960397\n",
      "mean validation F1 for Random Forests : Accuracy: 0.89 (+/- 0.27)\n",
      "Test F1 for Random Forests : 0.0\n",
      "mean validation F1 for AdaBoost : Accuracy: 0.78 (+/- 0.30)\n",
      "Test F1 for AdaBoost : 0.0743801652892562\n"
     ]
    },
    {
     "name": "stderr",
     "output_type": "stream",
     "text": [
      "/Applications/anaconda3/lib/python3.8/site-packages/sklearn/discriminant_analysis.py:715: UserWarning: Variables are collinear\n",
      "  warnings.warn(\"Variables are collinear\")\n",
      "/Applications/anaconda3/lib/python3.8/site-packages/sklearn/discriminant_analysis.py:715: UserWarning: Variables are collinear\n",
      "  warnings.warn(\"Variables are collinear\")\n",
      "/Applications/anaconda3/lib/python3.8/site-packages/sklearn/discriminant_analysis.py:715: UserWarning: Variables are collinear\n",
      "  warnings.warn(\"Variables are collinear\")\n",
      "/Applications/anaconda3/lib/python3.8/site-packages/sklearn/discriminant_analysis.py:715: UserWarning: Variables are collinear\n",
      "  warnings.warn(\"Variables are collinear\")\n",
      "/Applications/anaconda3/lib/python3.8/site-packages/sklearn/discriminant_analysis.py:715: UserWarning: Variables are collinear\n",
      "  warnings.warn(\"Variables are collinear\")\n",
      "/Applications/anaconda3/lib/python3.8/site-packages/sklearn/discriminant_analysis.py:715: UserWarning: Variables are collinear\n",
      "  warnings.warn(\"Variables are collinear\")\n"
     ]
    },
    {
     "name": "stdout",
     "output_type": "stream",
     "text": [
      "mean validation F1 for QDA : Accuracy: 0.73 (+/- 0.05)\n",
      "Test F1 for QDA : 0.10339384372533544\n",
      "mean validation F1 for Neural Net : Accuracy: 0.62 (+/- 0.23)\n"
     ]
    }
   ],
   "source": [
    "## SMOTE for train data only\n",
    "clfs = [KNeighborsClassifier(n_neighbors = 1), \n",
    "        GaussianNB(),\n",
    "        DecisionTreeClassifier(splitter = 'random'),\n",
    "        RandomForestClassifier(),\n",
    "        AdaBoostClassifier(),\n",
    "        QuadraticDiscriminantAnalysis(),\n",
    "        MLPClassifier(alpha=1, max_iter=1000)]\n",
    "clfName = {1:'KNN', 2:'Naive Bayes', 3:'Decision Trees', 4:'Random Forests',5:'AdaBoost',\n",
    "          6:'QDA',7:\"Neural Net\"}\n",
    "\n",
    "\n",
    "for i in range(len(clfs)):\n",
    "    scores = cross_val_score(clfs[i],X_train_res, y_train_res.ravel() , cv=5, scoring = 'f1')\n",
    "    print (\"mean validation F1 for\",clfName[i+1], \":\", \n",
    "           \"Accuracy: %0.2f (+/- %0.2f)\" % (scores.mean(), scores.std() * 2))\n",
    "    clf = clfs[i].fit(X_train_res, y_train_res.ravel())\n",
    "    Y_pred = clf.predict(X_test)\n",
    "    f1 = f1_score(y_test, Y_pred)\n",
    "    print ('Test F1 for',clfName[i+1], \":\", f1)"
   ]
  },
  {
   "cell_type": "code",
   "execution_count": 40,
   "metadata": {},
   "outputs": [
    {
     "name": "stdout",
     "output_type": "stream",
     "text": [
      "mean validation F1 for KNN : Accuracy: 0.64 (+/- 0.02)\n",
      "Test F1 for KNN : 0.5042650267804006\n",
      "mean validation F1 for Naive Bayes : Accuracy: 0.81 (+/- 0.06)\n",
      "Test F1 for Naive Bayes : 0.772584739435568\n",
      "mean validation F1 for Decision Trees : Accuracy: 0.83 (+/- 0.23)\n",
      "Test F1 for Decision Trees : 0.8450439146800502\n",
      "mean validation F1 for Random Forests : Accuracy: 0.88 (+/- 0.29)\n",
      "Test F1 for Random Forests : 0.9101440200375703\n",
      "mean validation F1 for AdaBoost : Accuracy: 0.78 (+/- 0.30)\n",
      "Test F1 for AdaBoost : 0.94452728899493\n"
     ]
    },
    {
     "name": "stderr",
     "output_type": "stream",
     "text": [
      "/Applications/anaconda3/lib/python3.8/site-packages/sklearn/discriminant_analysis.py:715: UserWarning: Variables are collinear\n",
      "  warnings.warn(\"Variables are collinear\")\n",
      "/Applications/anaconda3/lib/python3.8/site-packages/sklearn/discriminant_analysis.py:715: UserWarning: Variables are collinear\n",
      "  warnings.warn(\"Variables are collinear\")\n",
      "/Applications/anaconda3/lib/python3.8/site-packages/sklearn/discriminant_analysis.py:715: UserWarning: Variables are collinear\n",
      "  warnings.warn(\"Variables are collinear\")\n",
      "/Applications/anaconda3/lib/python3.8/site-packages/sklearn/discriminant_analysis.py:715: UserWarning: Variables are collinear\n",
      "  warnings.warn(\"Variables are collinear\")\n",
      "/Applications/anaconda3/lib/python3.8/site-packages/sklearn/discriminant_analysis.py:715: UserWarning: Variables are collinear\n",
      "  warnings.warn(\"Variables are collinear\")\n",
      "/Applications/anaconda3/lib/python3.8/site-packages/sklearn/discriminant_analysis.py:715: UserWarning: Variables are collinear\n",
      "  warnings.warn(\"Variables are collinear\")\n"
     ]
    },
    {
     "name": "stdout",
     "output_type": "stream",
     "text": [
      "mean validation F1 for QDA : Accuracy: 0.73 (+/- 0.05)\n",
      "Test F1 for QDA : 0.7480263157894737\n",
      "mean validation F1 for Neural Net : Accuracy: 0.58 (+/- 0.32)\n",
      "Test F1 for Neural Net : 0.5532786885245902\n"
     ]
    }
   ],
   "source": [
    "## SMOTE for train & test data \n",
    "clfs = [KNeighborsClassifier(n_neighbors = 1), \n",
    "        GaussianNB(),\n",
    "        DecisionTreeClassifier(splitter = 'random'),\n",
    "        RandomForestClassifier(),\n",
    "        AdaBoostClassifier(),\n",
    "        QuadraticDiscriminantAnalysis(),\n",
    "        MLPClassifier(alpha=1, max_iter=1000)]\n",
    "clfName = {1:'KNN', 2:'Naive Bayes', 3:'Decision Trees', 4:'Random Forests',5:'AdaBoost',\n",
    "          6:'QDA',7:\"Neural Net\"}\n",
    "\n",
    "\n",
    "for i in range(len(clfs)):\n",
    "    scores = cross_val_score(clfs[i],X_train_res, y_train_res.ravel() , cv=5, scoring = 'f1')\n",
    "    print (\"mean validation F1 for\",clfName[i+1], \":\", \n",
    "           \"Accuracy: %0.2f (+/- %0.2f)\" % (scores.mean(), scores.std() * 2))\n",
    "    clf = clfs[i].fit(X_train_res, y_train_res.ravel())\n",
    "    Y_pred = clf.predict(X_test_res)\n",
    "    f1 = f1_score(y_test_res, Y_pred)\n",
    "    print ('Test F1 for',clfName[i+1], \":\", f1)"
   ]
  },
  {
   "cell_type": "code",
   "execution_count": 35,
   "metadata": {},
   "outputs": [
    {
     "data": {
      "image/png": "[encoded data removed]",
      "text/plain": [
       "<Figure size 432x288 with 1 Axes>"
      ]
     },
     "metadata": {
      "needs_background": "light"
     },
     "output_type": "display_data"
    },
    {
     "name": "stdout",
     "output_type": "stream",
     "text": [
      "0.6399425287356322\n"
     ]
    },
    {
     "data": {
      "image/png": "[encoded data removed]",
      "text/plain": [
       "<Figure size 432x288 with 1 Axes>"
      ]
     },
     "metadata": {
      "needs_background": "light"
     },
     "output_type": "display_data"
    },
    {
     "name": "stdout",
     "output_type": "stream",
     "text": [
      "0.7788793103448276\n"
     ]
    },
    {
     "data": {
      "image/png": "[encoded data removed]",
      "text/plain": [
       "<Figure size 432x288 with 1 Axes>"
      ]
     },
     "metadata": {
      "needs_background": "light"
     },
     "output_type": "display_data"
    },
    {
     "name": "stdout",
     "output_type": "stream",
     "text": [
      "0.8587643678160919\n"
     ]
    },
    {
     "data": {
      "image/png": "[encoded data removed]",
      "text/plain": [
       "<Figure size 432x288 with 1 Axes>"
      ]
     },
     "metadata": {
      "needs_background": "light"
     },
     "output_type": "display_data"
    },
    {
     "name": "stdout",
     "output_type": "stream",
     "text": [
      "0.925\n"
     ]
    },
    {
     "data": {
      "image/png": "[encoded data removed]",
      "text/plain": [
       "<Figure size 432x288 with 1 Axes>"
      ]
     },
     "metadata": {
      "needs_background": "light"
     },
     "output_type": "display_data"
    },
    {
     "name": "stdout",
     "output_type": "stream",
     "text": [
      "0.9537356321839081\n"
     ]
    },
    {
     "name": "stderr",
     "output_type": "stream",
     "text": [
      "/Applications/anaconda3/lib/python3.8/site-packages/sklearn/discriminant_analysis.py:715: UserWarning: Variables are collinear\n",
      "  warnings.warn(\"Variables are collinear\")\n"
     ]
    },
    {
     "data": {
      "image/png": "[encoded data removed]",
      "text/plain": [
       "<Figure size 432x288 with 1 Axes>"
      ]
     },
     "metadata": {
      "needs_background": "light"
     },
     "output_type": "display_data"
    },
    {
     "name": "stdout",
     "output_type": "stream",
     "text": [
      "0.6645114942528736\n"
     ]
    },
    {
     "data": {
      "image/png": "[encoded data removed]",
      "text/plain": [
       "<Figure size 432x288 with 1 Axes>"
      ]
     },
     "metadata": {
      "needs_background": "light"
     },
     "output_type": "display_data"
    },
    {
     "name": "stdout",
     "output_type": "stream",
     "text": [
      "0.5339080459770115\n"
     ]
    }
   ],
   "source": [
    "from sklearn.metrics import confusion_matrix, precision_recall_curve, auc, roc_auc_score, roc_curve,recall_score, classification_report\n",
    "import matplotlib.pyplot as plt\n",
    "\n",
    "clfs = [KNeighborsClassifier(n_neighbors = 1), \n",
    "        GaussianNB(),\n",
    "        DecisionTreeClassifier(splitter = 'random'),\n",
    "        RandomForestClassifier(),\n",
    "        AdaBoostClassifier(),\n",
    "        QuadraticDiscriminantAnalysis(),\n",
    "        MLPClassifier(alpha=1, max_iter=1000)]\n",
    "clfName = {1:'KNN', 2:'Naive Bayes', 3:'Decision Trees', 4:'Random Forests',5:'AdaBoost',\n",
    "          6:'QDA',7:\"Neural Net\"}\n",
    "\n",
    "for i in range(len(clfs)):\n",
    "    clf = clfs[i].fit(X_train_res, y_train_res.ravel())\n",
    "    Y_pred = clf.predict(X_test_res)\n",
    "    fpr, tpr, thresholds = roc_curve(y_test_res, Y_pred)\n",
    "    plt.title('Receiver Operating Characteristic')\n",
    "    plt.plot(fpr, tpr, 'b',label='AUC = %0.3f'% roc_auc)\n",
    "    plt.legend(loc='lower right')\n",
    "    plt.plot([0,1],[0,1],'r--')\n",
    "    plt.xlim([-0.1,1.0])\n",
    "    plt.ylim([-0.1,1.01])\n",
    "    plt.ylabel('True Positive Rate')\n",
    "    plt.xlabel('False Positive Rate')\n",
    "    plt.show()\n",
    "    roc_auc = auc(fpr,tpr)\n",
    "    print(roc_auc)"
   ]
  },
  {
   "cell_type": "code",
   "execution_count": 13,
   "metadata": {},
   "outputs": [
    {
     "name": "stdout",
     "output_type": "stream",
     "text": [
      "8\n"
     ]
    }
   ],
   "source": [
    "from sklearn import linear_model\n",
    "from sklearn.feature_selection import SelectFromModel\n",
    "\n",
    "\n",
    "clf = linear_model.Lasso(alpha = .01)\n",
    "sfm = SelectFromModel(clf)\n",
    "sfm.fit(X,y)\n",
    "n_features = sfm.transform(X).shape[1]\n",
    "print(n_features)"
   ]
  },
  {
   "cell_type": "code",
   "execution_count": 14,
   "metadata": {},
   "outputs": [
    {
     "name": "stdout",
     "output_type": "stream",
     "text": [
      "[(0.003022, 'PerStatus'), (0.002454, '工作資歷4'), (0.002129, '近三月請假數B'), (0.001855, '年齡層級'), (0.0017, '近一年請假數A'), (-0.0, '通勤成本'), (0.0, '近三月請假數A'), (-0.0, '近一年請假數B'), (-0.0, '訓練時數C'), (0.0, '訓練時數B'), (0.0, '訓練時數A'), (-0.0, '職等'), (0.0, '管理層級'), (-0.0, '眷屬量'), (-0.0, '當前專案角色'), (0.0, '生產總額'), (0.0, '特殊專案佔比'), (-0.0, '榮譽數'), (-0.0, '是否升遷'), (0.0, '廠區代碼'), (-0.0, '年資層級C'), (-0.0, '年資層級B'), (-0.0, '年度績效等級A'), (-0.0, '工作資歷5'), (-0.0, '工作資歷3'), (-0.0, '工作資歷2'), (-0.0, '工作資歷1'), (0.0, '工作地點'), (0.0, '工作分類'), (0.0, '專案總數'), (-0.0, '專案時數'), (-0.0, '升遷速度'), (-0.0, '出差集中度'), (-0.0, '出差數B'), (0.0, '出差數A'), (-0.0, '任職前工作平均年數'), (-0.0, 'yyyy'), (-0.0, 'sex'), (-0.0, 'Unnamed: 0'), (-0.0, 'PerNo'), (-0.000503, '年度績效等級B'), (-0.00165, '婚姻狀況'), (-0.001963, '畢業科系類別'), (-0.009325, '年資層級A'), (-0.010631, '年度績效等級C')]\n"
     ]
    }
   ],
   "source": [
    "from sklearn.preprocessing import StandardScaler\n",
    "from sklearn.linear_model import Lasso,LassoCV,LassoLarsCV\n",
    "scaler = StandardScaler()\n",
    "X = scaler.fit_transform(X)\n",
    "names = train.columns\n",
    "lasso = Lasso(alpha = .01)\n",
    "lasso.fit(X,y)\n",
    "print(sorted(zip(map(lambda x : round(x,6),lasso.coef_),names),reverse = True))"
   ]
  },
  {
   "cell_type": "code",
   "execution_count": 123,
   "metadata": {},
   "outputs": [
    {
     "ename": "IndexError",
     "evalue": "list index out of range",
     "output_type": "error",
     "traceback": [
      "\u001b[0;31m---------------------------------------------------------------------------\u001b[0m",
      "\u001b[0;31mIndexError\u001b[0m                                Traceback (most recent call last)",
      "\u001b[0;32m<ipython-input-123-7145b1e55c48>\u001b[0m in \u001b[0;36m<module>\u001b[0;34m\u001b[0m\n\u001b[1;32m      6\u001b[0m \u001b[0mplt\u001b[0m\u001b[0;34m.\u001b[0m\u001b[0mtitle\u001b[0m\u001b[0;34m(\u001b[0m\u001b[0mtrain\u001b[0m\u001b[0;34m.\u001b[0m\u001b[0mcolumns\u001b[0m\u001b[0;34m[\u001b[0m\u001b[0;36m2\u001b[0m\u001b[0;34m]\u001b[0m\u001b[0;34m)\u001b[0m\u001b[0;34m\u001b[0m\u001b[0;34m\u001b[0m\u001b[0m\n\u001b[1;32m      7\u001b[0m \u001b[0;34m\u001b[0m\u001b[0m\n\u001b[0;32m----> 8\u001b[0;31m \u001b[0mplt\u001b[0m\u001b[0;34m.\u001b[0m\u001b[0mannotate\u001b[0m\u001b[0;34m(\u001b[0m\u001b[0mstr\u001b[0m\u001b[0;34m(\u001b[0m\u001b[0ms\u001b[0m\u001b[0;34m[\u001b[0m\u001b[0;36m2\u001b[0m\u001b[0;34m]\u001b[0m\u001b[0;34m)\u001b[0m\u001b[0;34m,\u001b[0m \u001b[0mxy\u001b[0m\u001b[0;34m=\u001b[0m\u001b[0;34m(\u001b[0m\u001b[0mn\u001b[0m\u001b[0;34m[\u001b[0m\u001b[0;36m2\u001b[0m\u001b[0;34m]\u001b[0m\u001b[0;34m,\u001b[0m\u001b[0ms\u001b[0m\u001b[0;34m[\u001b[0m\u001b[0;36m2\u001b[0m\u001b[0;34m]\u001b[0m\u001b[0;34m)\u001b[0m\u001b[0;34m,\u001b[0m \u001b[0mha\u001b[0m\u001b[0;34m=\u001b[0m\u001b[0;34m'center'\u001b[0m\u001b[0;34m,\u001b[0m \u001b[0mva\u001b[0m\u001b[0;34m=\u001b[0m\u001b[0;34m'bottom'\u001b[0m\u001b[0;34m)\u001b[0m\u001b[0;34m\u001b[0m\u001b[0;34m\u001b[0m\u001b[0m\n\u001b[0m\u001b[1;32m      9\u001b[0m \u001b[0mplt\u001b[0m\u001b[0;34m.\u001b[0m\u001b[0mshow\u001b[0m\u001b[0;34m(\u001b[0m\u001b[0;34m)\u001b[0m\u001b[0;34m\u001b[0m\u001b[0;34m\u001b[0m\u001b[0m\n",
      "\u001b[0;31mIndexError\u001b[0m: list index out of range"
     ]
    },
    {
     "data": {
      "image/png": "[encoded data removed]",
      "text/plain": [
       "<Figure size 432x288 with 1 Axes>"
      ]
     },
     "metadata": {
      "needs_background": "light"
     },
     "output_type": "display_data"
    }
   ],
   "source": [
    "import matplotlib.pyplot as plt\n",
    "k = train[train.columns[2]].value_counts()\n",
    "n = k.keys().tolist() # title\n",
    "s = k.tolist() # count\n",
    "line = plt.bar(n,s)\n",
    "plt.title(train.columns[2])\n",
    "\n",
    "plt.annotate(str(s[2]), xy=(n[2],s[2]), ha='center', va='bottom')\n",
    "plt.show()       "
   ]
  },
  {
   "cell_type": "code",
   "execution_count": 137,
   "metadata": {},
   "outputs": [
    {
     "data": {
      "text/plain": [
       "Text(0.5, 1.0, 'sex')"
      ]
     },
     "execution_count": 137,
     "metadata": {},
     "output_type": "execute_result"
    },
    {
     "data": {
      "image/png": "[encoded data removed]",
      "text/plain": [
       "<Figure size 432x288 with 1 Axes>"
      ]
     },
     "metadata": {},
     "output_type": "display_data"
    }
   ],
   "source": [
    "import matplotlib.pyplot as plt\n",
    "k = train[train.columns[3]].value_counts()\n",
    "n = k.keys().tolist() # title\n",
    "s = k.tolist() # count\n",
    "\n",
    "cmap = plt.get_cmap('Spectral')\n",
    "colors = [cmap(i) for i in np.linspace(0, 1, 8)]\n",
    "source_labels = n\n",
    "source_pie = plt.pie(k, labels=source_labels, autopct='%1.1f%%', shadow=False, colors=colors)\n",
    "plt.title(train.columns[3])"
   ]
  },
  {
   "cell_type": "code",
   "execution_count": 147,
   "metadata": {},
   "outputs": [
    {
     "data": {
      "text/plain": [
       "<Figure size 720x720 with 0 Axes>"
      ]
     },
     "metadata": {},
     "output_type": "display_data"
    }
   ],
   "source": [
    "## Bar Chart\n",
    "import matplotlib.pyplot as plt\n",
    "from matplotlib.gridspec import GridSpec\n",
    "\n",
    "# Make square figures and axes\n",
    "plt.figure(1, figsize=(10,10))\n",
    "the_grid = GridSpec(2, 2)\n",
    "\n",
    "def pieplotting(i):\n",
    "    plt.figure(1, figsize=(20,10))\n",
    "    the_grid = GridSpec(2, 2)\n",
    "    k = train[train.columns[i]].value_counts()\n",
    "    n = k.keys().tolist() # title\n",
    "    s = k.tolist() # count\n",
    "\n",
    "    cmap = plt.get_cmap('Spectral')\n",
    "    colors = [cmap(j) for j in np.linspace(0, 1, 8)]\n",
    "    source_labels = n\n",
    "    source_pie = plt.pie(k, labels=source_labels, autopct='%1.1f%%', shadow=False, colors=colors)\n",
    "    plt.title(train.columns[i])"
   ]
  },
  {
   "cell_type": "code",
   "execution_count": 161,
   "metadata": {},
   "outputs": [],
   "source": [
    "import seaborn as sns\n",
    "\n",
    "def barplotting(i):\n",
    "    k = train[train.columns[i]].value_counts()\n",
    "    n = k.keys().tolist() # title\n",
    "    s = k.tolist() # count\n",
    "    sns.set(style=\"whitegrid\")\n",
    "    sns.barplot(x=n,y=s, data=train, palette='Spectral')\n",
    "    plt.title(train.columns[i])"
   ]
  },
  {
   "cell_type": "code",
   "execution_count": 162,
   "metadata": {},
   "outputs": [
    {
     "data": {
      "image/png": "[encoded data removed]",
      "text/plain": [
       "<Figure size 432x288 with 1 Axes>"
      ]
     },
     "metadata": {},
     "output_type": "display_data"
    }
   ],
   "source": [
    "barplotting(5)"
   ]
  },
  {
   "cell_type": "code",
   "execution_count": 151,
   "metadata": {},
   "outputs": [],
   "source": [
    "# plotting(5)\n"
   ]
  }
 ],
 "metadata": {
  "kernelspec": {
   "display_name": "Python 3",
   "language": "python",
   "name": "python3"
  },
  "language_info": {
   "codemirror_mode": {
    "name": "ipython",
    "version": 3
   },
   "file_extension": ".py",
   "mimetype": "text/x-python",
   "name": "python",
   "nbconvert_exporter": "python",
   "pygments_lexer": "ipython3",
   "version": "3.7.7"
  }
 },
 "nbformat": 4,
 "nbformat_minor": 4
}
